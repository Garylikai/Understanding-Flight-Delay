{
 "cells": [
  {
   "cell_type": "markdown",
   "id": "7c6befba",
   "metadata": {},
   "source": [
    "## Section 0: Setup"
   ]
  },
  {
   "cell_type": "code",
   "execution_count": 1,
   "id": "8fbf6403",
   "metadata": {},
   "outputs": [],
   "source": [
    "import numpy as np\n",
    "import pandas as pd\n",
    "import seaborn as sns\n",
    "sns.set_theme(color_codes = True)\n",
    "sns.set_palette('Pastel1')\n",
    "import matplotlib.pyplot as plt"
   ]
  },
  {
   "cell_type": "code",
   "execution_count": 2,
   "id": "c61d6330",
   "metadata": {},
   "outputs": [],
   "source": [
    "from sklearn.linear_model import LinearRegression, Ridge\n",
    "from sklearn.model_selection import train_test_split, RandomizedSearchCV\n",
    "from sklearn.metrics import mean_squared_error, mean_absolute_error\n",
    "from sklearn.feature_selection import SelectKBest, f_regression\n",
    "from sklearn.ensemble import RandomForestRegressor\n",
    "from sklearn.neighbors import KNeighborsRegressor\n",
    "from sklearn.neural_network import MLPRegressor\n",
    "from scipy.stats import levene, ttest_ind"
   ]
  },
  {
   "cell_type": "code",
   "execution_count": 3,
   "id": "42dbdf92",
   "metadata": {},
   "outputs": [
    {
     "data": {
      "text/plain": [
       "year                     0\n",
       "month                    0\n",
       "carrier                  0\n",
       "carrier_name             0\n",
       "airport                  0\n",
       "airport_name             0\n",
       "arr_flights            135\n",
       "arr_del15              156\n",
       "carrier_ct             135\n",
       "weather_ct             135\n",
       "nas_ct                 135\n",
       "security_ct            135\n",
       "late_aircraft_ct       135\n",
       "arr_cancelled          135\n",
       "arr_diverted           135\n",
       "arr_delay              135\n",
       "carrier_delay          135\n",
       "weather_delay          135\n",
       "nas_delay              135\n",
       "security_delay         135\n",
       "late_aircraft_delay    135\n",
       "dtype: int64"
      ]
     },
     "execution_count": 3,
     "metadata": {},
     "output_type": "execute_result"
    }
   ],
   "source": [
    "data1 = pd.read_csv('344582299_122019_4415_airline_delay_causes.csv')\n",
    "data1.isnull().sum()"
   ]
  },
  {
   "cell_type": "code",
   "execution_count": 4,
   "id": "dacc95d7",
   "metadata": {},
   "outputs": [
    {
     "data": {
      "text/html": [
       "<div>\n",
       "<style scoped>\n",
       "    .dataframe tbody tr th:only-of-type {\n",
       "        vertical-align: middle;\n",
       "    }\n",
       "\n",
       "    .dataframe tbody tr th {\n",
       "        vertical-align: top;\n",
       "    }\n",
       "\n",
       "    .dataframe thead th {\n",
       "        text-align: right;\n",
       "    }\n",
       "</style>\n",
       "<table border=\"1\" class=\"dataframe\">\n",
       "  <thead>\n",
       "    <tr style=\"text-align: right;\">\n",
       "      <th></th>\n",
       "      <th>year</th>\n",
       "      <th>month</th>\n",
       "      <th>carrier</th>\n",
       "      <th>carrier_name</th>\n",
       "      <th>airport</th>\n",
       "      <th>airport_name</th>\n",
       "      <th>arr_flights</th>\n",
       "      <th>arr_del15</th>\n",
       "      <th>carrier_ct</th>\n",
       "      <th>weather_ct</th>\n",
       "      <th>...</th>\n",
       "      <th>security_ct</th>\n",
       "      <th>late_aircraft_ct</th>\n",
       "      <th>arr_cancelled</th>\n",
       "      <th>arr_diverted</th>\n",
       "      <th>arr_delay</th>\n",
       "      <th>carrier_delay</th>\n",
       "      <th>weather_delay</th>\n",
       "      <th>nas_delay</th>\n",
       "      <th>security_delay</th>\n",
       "      <th>late_aircraft_delay</th>\n",
       "    </tr>\n",
       "  </thead>\n",
       "  <tbody>\n",
       "    <tr>\n",
       "      <th>180</th>\n",
       "      <td>2019</td>\n",
       "      <td>1</td>\n",
       "      <td>OO</td>\n",
       "      <td>SkyWest Airlines Inc.</td>\n",
       "      <td>BMI</td>\n",
       "      <td>Bloomington/Normal, IL: Central Il Regional Ai...</td>\n",
       "      <td>NaN</td>\n",
       "      <td>NaN</td>\n",
       "      <td>NaN</td>\n",
       "      <td>NaN</td>\n",
       "      <td>...</td>\n",
       "      <td>NaN</td>\n",
       "      <td>NaN</td>\n",
       "      <td>NaN</td>\n",
       "      <td>NaN</td>\n",
       "      <td>NaN</td>\n",
       "      <td>NaN</td>\n",
       "      <td>NaN</td>\n",
       "      <td>NaN</td>\n",
       "      <td>NaN</td>\n",
       "      <td>NaN</td>\n",
       "    </tr>\n",
       "    <tr>\n",
       "      <th>463</th>\n",
       "      <td>2019</td>\n",
       "      <td>1</td>\n",
       "      <td>UA</td>\n",
       "      <td>United Air Lines Inc.</td>\n",
       "      <td>MKE</td>\n",
       "      <td>Milwaukee, WI: General Mitchell International</td>\n",
       "      <td>NaN</td>\n",
       "      <td>NaN</td>\n",
       "      <td>NaN</td>\n",
       "      <td>NaN</td>\n",
       "      <td>...</td>\n",
       "      <td>NaN</td>\n",
       "      <td>NaN</td>\n",
       "      <td>NaN</td>\n",
       "      <td>NaN</td>\n",
       "      <td>NaN</td>\n",
       "      <td>NaN</td>\n",
       "      <td>NaN</td>\n",
       "      <td>NaN</td>\n",
       "      <td>NaN</td>\n",
       "      <td>NaN</td>\n",
       "    </tr>\n",
       "    <tr>\n",
       "      <th>650</th>\n",
       "      <td>2019</td>\n",
       "      <td>1</td>\n",
       "      <td>YV</td>\n",
       "      <td>Mesa Airlines Inc.</td>\n",
       "      <td>MDT</td>\n",
       "      <td>Harrisburg, PA: Harrisburg International</td>\n",
       "      <td>NaN</td>\n",
       "      <td>NaN</td>\n",
       "      <td>NaN</td>\n",
       "      <td>NaN</td>\n",
       "      <td>...</td>\n",
       "      <td>NaN</td>\n",
       "      <td>NaN</td>\n",
       "      <td>NaN</td>\n",
       "      <td>NaN</td>\n",
       "      <td>NaN</td>\n",
       "      <td>NaN</td>\n",
       "      <td>NaN</td>\n",
       "      <td>NaN</td>\n",
       "      <td>NaN</td>\n",
       "      <td>NaN</td>\n",
       "    </tr>\n",
       "    <tr>\n",
       "      <th>4293</th>\n",
       "      <td>2019</td>\n",
       "      <td>4</td>\n",
       "      <td>9E</td>\n",
       "      <td>Endeavor Air Inc.</td>\n",
       "      <td>TRI</td>\n",
       "      <td>Bristol/Johnson City/Kingsport, TN: Tri Cities</td>\n",
       "      <td>NaN</td>\n",
       "      <td>NaN</td>\n",
       "      <td>NaN</td>\n",
       "      <td>NaN</td>\n",
       "      <td>...</td>\n",
       "      <td>NaN</td>\n",
       "      <td>NaN</td>\n",
       "      <td>NaN</td>\n",
       "      <td>NaN</td>\n",
       "      <td>NaN</td>\n",
       "      <td>NaN</td>\n",
       "      <td>NaN</td>\n",
       "      <td>NaN</td>\n",
       "      <td>NaN</td>\n",
       "      <td>NaN</td>\n",
       "    </tr>\n",
       "    <tr>\n",
       "      <th>4734</th>\n",
       "      <td>2019</td>\n",
       "      <td>4</td>\n",
       "      <td>EV</td>\n",
       "      <td>ExpressJet Airlines LLC</td>\n",
       "      <td>LNK</td>\n",
       "      <td>Lincoln, NE: Lincoln Airport</td>\n",
       "      <td>NaN</td>\n",
       "      <td>NaN</td>\n",
       "      <td>NaN</td>\n",
       "      <td>NaN</td>\n",
       "      <td>...</td>\n",
       "      <td>NaN</td>\n",
       "      <td>NaN</td>\n",
       "      <td>NaN</td>\n",
       "      <td>NaN</td>\n",
       "      <td>NaN</td>\n",
       "      <td>NaN</td>\n",
       "      <td>NaN</td>\n",
       "      <td>NaN</td>\n",
       "      <td>NaN</td>\n",
       "      <td>NaN</td>\n",
       "    </tr>\n",
       "    <tr>\n",
       "      <th>...</th>\n",
       "      <td>...</td>\n",
       "      <td>...</td>\n",
       "      <td>...</td>\n",
       "      <td>...</td>\n",
       "      <td>...</td>\n",
       "      <td>...</td>\n",
       "      <td>...</td>\n",
       "      <td>...</td>\n",
       "      <td>...</td>\n",
       "      <td>...</td>\n",
       "      <td>...</td>\n",
       "      <td>...</td>\n",
       "      <td>...</td>\n",
       "      <td>...</td>\n",
       "      <td>...</td>\n",
       "      <td>...</td>\n",
       "      <td>...</td>\n",
       "      <td>...</td>\n",
       "      <td>...</td>\n",
       "      <td>...</td>\n",
       "      <td>...</td>\n",
       "    </tr>\n",
       "    <tr>\n",
       "      <th>121807</th>\n",
       "      <td>2018</td>\n",
       "      <td>10</td>\n",
       "      <td>9E</td>\n",
       "      <td>Endeavor Air Inc.</td>\n",
       "      <td>VLD</td>\n",
       "      <td>Valdosta, GA: Valdosta Regional</td>\n",
       "      <td>NaN</td>\n",
       "      <td>NaN</td>\n",
       "      <td>NaN</td>\n",
       "      <td>NaN</td>\n",
       "      <td>...</td>\n",
       "      <td>NaN</td>\n",
       "      <td>NaN</td>\n",
       "      <td>NaN</td>\n",
       "      <td>NaN</td>\n",
       "      <td>NaN</td>\n",
       "      <td>NaN</td>\n",
       "      <td>NaN</td>\n",
       "      <td>NaN</td>\n",
       "      <td>NaN</td>\n",
       "      <td>NaN</td>\n",
       "    </tr>\n",
       "    <tr>\n",
       "      <th>122799</th>\n",
       "      <td>2018</td>\n",
       "      <td>10</td>\n",
       "      <td>OO</td>\n",
       "      <td>SkyWest Airlines Inc.</td>\n",
       "      <td>AEX</td>\n",
       "      <td>Alexandria, LA: Alexandria International</td>\n",
       "      <td>NaN</td>\n",
       "      <td>NaN</td>\n",
       "      <td>NaN</td>\n",
       "      <td>NaN</td>\n",
       "      <td>...</td>\n",
       "      <td>NaN</td>\n",
       "      <td>NaN</td>\n",
       "      <td>NaN</td>\n",
       "      <td>NaN</td>\n",
       "      <td>NaN</td>\n",
       "      <td>NaN</td>\n",
       "      <td>NaN</td>\n",
       "      <td>NaN</td>\n",
       "      <td>NaN</td>\n",
       "      <td>NaN</td>\n",
       "    </tr>\n",
       "    <tr>\n",
       "      <th>122872</th>\n",
       "      <td>2018</td>\n",
       "      <td>10</td>\n",
       "      <td>OO</td>\n",
       "      <td>SkyWest Airlines Inc.</td>\n",
       "      <td>EWN</td>\n",
       "      <td>New Bern/Morehead/Beaufort, NC: Coastal Caroli...</td>\n",
       "      <td>NaN</td>\n",
       "      <td>NaN</td>\n",
       "      <td>NaN</td>\n",
       "      <td>NaN</td>\n",
       "      <td>...</td>\n",
       "      <td>NaN</td>\n",
       "      <td>NaN</td>\n",
       "      <td>NaN</td>\n",
       "      <td>NaN</td>\n",
       "      <td>NaN</td>\n",
       "      <td>NaN</td>\n",
       "      <td>NaN</td>\n",
       "      <td>NaN</td>\n",
       "      <td>NaN</td>\n",
       "      <td>NaN</td>\n",
       "    </tr>\n",
       "    <tr>\n",
       "      <th>122881</th>\n",
       "      <td>2018</td>\n",
       "      <td>10</td>\n",
       "      <td>OO</td>\n",
       "      <td>SkyWest Airlines Inc.</td>\n",
       "      <td>FSM</td>\n",
       "      <td>Fort Smith, AR: Fort Smith Regional</td>\n",
       "      <td>NaN</td>\n",
       "      <td>NaN</td>\n",
       "      <td>NaN</td>\n",
       "      <td>NaN</td>\n",
       "      <td>...</td>\n",
       "      <td>NaN</td>\n",
       "      <td>NaN</td>\n",
       "      <td>NaN</td>\n",
       "      <td>NaN</td>\n",
       "      <td>NaN</td>\n",
       "      <td>NaN</td>\n",
       "      <td>NaN</td>\n",
       "      <td>NaN</td>\n",
       "      <td>NaN</td>\n",
       "      <td>NaN</td>\n",
       "    </tr>\n",
       "    <tr>\n",
       "      <th>122937</th>\n",
       "      <td>2018</td>\n",
       "      <td>10</td>\n",
       "      <td>OO</td>\n",
       "      <td>SkyWest Airlines Inc.</td>\n",
       "      <td>MFE</td>\n",
       "      <td>Mission/McAllen/Edinburg, TX: McAllen Miller I...</td>\n",
       "      <td>NaN</td>\n",
       "      <td>NaN</td>\n",
       "      <td>NaN</td>\n",
       "      <td>NaN</td>\n",
       "      <td>...</td>\n",
       "      <td>NaN</td>\n",
       "      <td>NaN</td>\n",
       "      <td>NaN</td>\n",
       "      <td>NaN</td>\n",
       "      <td>NaN</td>\n",
       "      <td>NaN</td>\n",
       "      <td>NaN</td>\n",
       "      <td>NaN</td>\n",
       "      <td>NaN</td>\n",
       "      <td>NaN</td>\n",
       "    </tr>\n",
       "  </tbody>\n",
       "</table>\n",
       "<p>135 rows × 21 columns</p>\n",
       "</div>"
      ],
      "text/plain": [
       "        year  month carrier             carrier_name airport  \\\n",
       "180     2019      1      OO    SkyWest Airlines Inc.     BMI   \n",
       "463     2019      1      UA    United Air Lines Inc.     MKE   \n",
       "650     2019      1      YV       Mesa Airlines Inc.     MDT   \n",
       "4293    2019      4      9E        Endeavor Air Inc.     TRI   \n",
       "4734    2019      4      EV  ExpressJet Airlines LLC     LNK   \n",
       "...      ...    ...     ...                      ...     ...   \n",
       "121807  2018     10      9E        Endeavor Air Inc.     VLD   \n",
       "122799  2018     10      OO    SkyWest Airlines Inc.     AEX   \n",
       "122872  2018     10      OO    SkyWest Airlines Inc.     EWN   \n",
       "122881  2018     10      OO    SkyWest Airlines Inc.     FSM   \n",
       "122937  2018     10      OO    SkyWest Airlines Inc.     MFE   \n",
       "\n",
       "                                             airport_name  arr_flights  \\\n",
       "180     Bloomington/Normal, IL: Central Il Regional Ai...          NaN   \n",
       "463         Milwaukee, WI: General Mitchell International          NaN   \n",
       "650              Harrisburg, PA: Harrisburg International          NaN   \n",
       "4293       Bristol/Johnson City/Kingsport, TN: Tri Cities          NaN   \n",
       "4734                         Lincoln, NE: Lincoln Airport          NaN   \n",
       "...                                                   ...          ...   \n",
       "121807                    Valdosta, GA: Valdosta Regional          NaN   \n",
       "122799           Alexandria, LA: Alexandria International          NaN   \n",
       "122872  New Bern/Morehead/Beaufort, NC: Coastal Caroli...          NaN   \n",
       "122881                Fort Smith, AR: Fort Smith Regional          NaN   \n",
       "122937  Mission/McAllen/Edinburg, TX: McAllen Miller I...          NaN   \n",
       "\n",
       "        arr_del15  carrier_ct  weather_ct  ...  security_ct  late_aircraft_ct  \\\n",
       "180           NaN         NaN         NaN  ...          NaN               NaN   \n",
       "463           NaN         NaN         NaN  ...          NaN               NaN   \n",
       "650           NaN         NaN         NaN  ...          NaN               NaN   \n",
       "4293          NaN         NaN         NaN  ...          NaN               NaN   \n",
       "4734          NaN         NaN         NaN  ...          NaN               NaN   \n",
       "...           ...         ...         ...  ...          ...               ...   \n",
       "121807        NaN         NaN         NaN  ...          NaN               NaN   \n",
       "122799        NaN         NaN         NaN  ...          NaN               NaN   \n",
       "122872        NaN         NaN         NaN  ...          NaN               NaN   \n",
       "122881        NaN         NaN         NaN  ...          NaN               NaN   \n",
       "122937        NaN         NaN         NaN  ...          NaN               NaN   \n",
       "\n",
       "        arr_cancelled  arr_diverted  arr_delay  carrier_delay  weather_delay  \\\n",
       "180               NaN           NaN        NaN            NaN            NaN   \n",
       "463               NaN           NaN        NaN            NaN            NaN   \n",
       "650               NaN           NaN        NaN            NaN            NaN   \n",
       "4293              NaN           NaN        NaN            NaN            NaN   \n",
       "4734              NaN           NaN        NaN            NaN            NaN   \n",
       "...               ...           ...        ...            ...            ...   \n",
       "121807            NaN           NaN        NaN            NaN            NaN   \n",
       "122799            NaN           NaN        NaN            NaN            NaN   \n",
       "122872            NaN           NaN        NaN            NaN            NaN   \n",
       "122881            NaN           NaN        NaN            NaN            NaN   \n",
       "122937            NaN           NaN        NaN            NaN            NaN   \n",
       "\n",
       "        nas_delay  security_delay  late_aircraft_delay  \n",
       "180           NaN             NaN                  NaN  \n",
       "463           NaN             NaN                  NaN  \n",
       "650           NaN             NaN                  NaN  \n",
       "4293          NaN             NaN                  NaN  \n",
       "4734          NaN             NaN                  NaN  \n",
       "...           ...             ...                  ...  \n",
       "121807        NaN             NaN                  NaN  \n",
       "122799        NaN             NaN                  NaN  \n",
       "122872        NaN             NaN                  NaN  \n",
       "122881        NaN             NaN                  NaN  \n",
       "122937        NaN             NaN                  NaN  \n",
       "\n",
       "[135 rows x 21 columns]"
      ]
     },
     "execution_count": 4,
     "metadata": {},
     "output_type": "execute_result"
    }
   ],
   "source": [
    "data1.loc[data1['arr_flights'].isna()]"
   ]
  },
  {
   "cell_type": "code",
   "execution_count": 5,
   "id": "5d0fbbe8",
   "metadata": {},
   "outputs": [
    {
     "data": {
      "text/plain": [
       "year                    0\n",
       "month                   0\n",
       "carrier                 0\n",
       "carrier_name            0\n",
       "airport                 0\n",
       "airport_name            0\n",
       "arr_flights             0\n",
       "arr_del15              21\n",
       "carrier_ct              0\n",
       "weather_ct              0\n",
       "nas_ct                  0\n",
       "security_ct             0\n",
       "late_aircraft_ct        0\n",
       "arr_cancelled           0\n",
       "arr_diverted            0\n",
       "arr_delay               0\n",
       "carrier_delay           0\n",
       "weather_delay           0\n",
       "nas_delay               0\n",
       "security_delay          0\n",
       "late_aircraft_delay     0\n",
       "dtype: int64"
      ]
     },
     "execution_count": 5,
     "metadata": {},
     "output_type": "execute_result"
    }
   ],
   "source": [
    "data1 = data1.loc[~data1['arr_flights'].isna()]\n",
    "data1.isnull().sum()"
   ]
  },
  {
   "cell_type": "code",
   "execution_count": 6,
   "id": "39d381dc",
   "metadata": {},
   "outputs": [
    {
     "data": {
      "text/html": [
       "<div>\n",
       "<style scoped>\n",
       "    .dataframe tbody tr th:only-of-type {\n",
       "        vertical-align: middle;\n",
       "    }\n",
       "\n",
       "    .dataframe tbody tr th {\n",
       "        vertical-align: top;\n",
       "    }\n",
       "\n",
       "    .dataframe thead th {\n",
       "        text-align: right;\n",
       "    }\n",
       "</style>\n",
       "<table border=\"1\" class=\"dataframe\">\n",
       "  <thead>\n",
       "    <tr style=\"text-align: right;\">\n",
       "      <th></th>\n",
       "      <th>carrier_ct</th>\n",
       "      <th>weather_ct</th>\n",
       "      <th>nas_ct</th>\n",
       "      <th>security_ct</th>\n",
       "      <th>late_aircraft_ct</th>\n",
       "    </tr>\n",
       "  </thead>\n",
       "  <tbody>\n",
       "    <tr>\n",
       "      <th>251</th>\n",
       "      <td>0.0</td>\n",
       "      <td>0.0</td>\n",
       "      <td>0.0</td>\n",
       "      <td>0.0</td>\n",
       "      <td>0.0</td>\n",
       "    </tr>\n",
       "    <tr>\n",
       "      <th>1138</th>\n",
       "      <td>0.0</td>\n",
       "      <td>0.0</td>\n",
       "      <td>0.0</td>\n",
       "      <td>0.0</td>\n",
       "      <td>0.0</td>\n",
       "    </tr>\n",
       "    <tr>\n",
       "      <th>2999</th>\n",
       "      <td>0.0</td>\n",
       "      <td>0.0</td>\n",
       "      <td>0.0</td>\n",
       "      <td>0.0</td>\n",
       "      <td>0.0</td>\n",
       "    </tr>\n",
       "    <tr>\n",
       "      <th>3043</th>\n",
       "      <td>0.0</td>\n",
       "      <td>0.0</td>\n",
       "      <td>0.0</td>\n",
       "      <td>0.0</td>\n",
       "      <td>0.0</td>\n",
       "    </tr>\n",
       "    <tr>\n",
       "      <th>19625</th>\n",
       "      <td>0.0</td>\n",
       "      <td>0.0</td>\n",
       "      <td>0.0</td>\n",
       "      <td>0.0</td>\n",
       "      <td>0.0</td>\n",
       "    </tr>\n",
       "    <tr>\n",
       "      <th>24927</th>\n",
       "      <td>0.0</td>\n",
       "      <td>0.0</td>\n",
       "      <td>0.0</td>\n",
       "      <td>0.0</td>\n",
       "      <td>0.0</td>\n",
       "    </tr>\n",
       "    <tr>\n",
       "      <th>40689</th>\n",
       "      <td>0.0</td>\n",
       "      <td>0.0</td>\n",
       "      <td>0.0</td>\n",
       "      <td>0.0</td>\n",
       "      <td>0.0</td>\n",
       "    </tr>\n",
       "    <tr>\n",
       "      <th>42788</th>\n",
       "      <td>0.0</td>\n",
       "      <td>0.0</td>\n",
       "      <td>0.0</td>\n",
       "      <td>0.0</td>\n",
       "      <td>0.0</td>\n",
       "    </tr>\n",
       "    <tr>\n",
       "      <th>50342</th>\n",
       "      <td>0.0</td>\n",
       "      <td>0.0</td>\n",
       "      <td>0.0</td>\n",
       "      <td>0.0</td>\n",
       "      <td>0.0</td>\n",
       "    </tr>\n",
       "    <tr>\n",
       "      <th>67170</th>\n",
       "      <td>0.0</td>\n",
       "      <td>0.0</td>\n",
       "      <td>0.0</td>\n",
       "      <td>0.0</td>\n",
       "      <td>0.0</td>\n",
       "    </tr>\n",
       "    <tr>\n",
       "      <th>67263</th>\n",
       "      <td>0.0</td>\n",
       "      <td>0.0</td>\n",
       "      <td>0.0</td>\n",
       "      <td>0.0</td>\n",
       "      <td>0.0</td>\n",
       "    </tr>\n",
       "    <tr>\n",
       "      <th>67653</th>\n",
       "      <td>0.0</td>\n",
       "      <td>0.0</td>\n",
       "      <td>0.0</td>\n",
       "      <td>0.0</td>\n",
       "      <td>0.0</td>\n",
       "    </tr>\n",
       "    <tr>\n",
       "      <th>68472</th>\n",
       "      <td>0.0</td>\n",
       "      <td>0.0</td>\n",
       "      <td>0.0</td>\n",
       "      <td>0.0</td>\n",
       "      <td>0.0</td>\n",
       "    </tr>\n",
       "    <tr>\n",
       "      <th>79581</th>\n",
       "      <td>0.0</td>\n",
       "      <td>0.0</td>\n",
       "      <td>0.0</td>\n",
       "      <td>0.0</td>\n",
       "      <td>0.0</td>\n",
       "    </tr>\n",
       "    <tr>\n",
       "      <th>84065</th>\n",
       "      <td>0.0</td>\n",
       "      <td>0.0</td>\n",
       "      <td>0.0</td>\n",
       "      <td>0.0</td>\n",
       "      <td>0.0</td>\n",
       "    </tr>\n",
       "    <tr>\n",
       "      <th>89991</th>\n",
       "      <td>0.0</td>\n",
       "      <td>0.0</td>\n",
       "      <td>0.0</td>\n",
       "      <td>0.0</td>\n",
       "      <td>0.0</td>\n",
       "    </tr>\n",
       "    <tr>\n",
       "      <th>95253</th>\n",
       "      <td>0.0</td>\n",
       "      <td>0.0</td>\n",
       "      <td>0.0</td>\n",
       "      <td>0.0</td>\n",
       "      <td>0.0</td>\n",
       "    </tr>\n",
       "    <tr>\n",
       "      <th>111458</th>\n",
       "      <td>0.0</td>\n",
       "      <td>0.0</td>\n",
       "      <td>0.0</td>\n",
       "      <td>0.0</td>\n",
       "      <td>0.0</td>\n",
       "    </tr>\n",
       "    <tr>\n",
       "      <th>116228</th>\n",
       "      <td>0.0</td>\n",
       "      <td>0.0</td>\n",
       "      <td>0.0</td>\n",
       "      <td>0.0</td>\n",
       "      <td>0.0</td>\n",
       "    </tr>\n",
       "    <tr>\n",
       "      <th>116731</th>\n",
       "      <td>0.0</td>\n",
       "      <td>0.0</td>\n",
       "      <td>0.0</td>\n",
       "      <td>0.0</td>\n",
       "      <td>0.0</td>\n",
       "    </tr>\n",
       "    <tr>\n",
       "      <th>119469</th>\n",
       "      <td>0.0</td>\n",
       "      <td>0.0</td>\n",
       "      <td>0.0</td>\n",
       "      <td>0.0</td>\n",
       "      <td>0.0</td>\n",
       "    </tr>\n",
       "  </tbody>\n",
       "</table>\n",
       "</div>"
      ],
      "text/plain": [
       "        carrier_ct  weather_ct  nas_ct  security_ct  late_aircraft_ct\n",
       "251            0.0         0.0     0.0          0.0               0.0\n",
       "1138           0.0         0.0     0.0          0.0               0.0\n",
       "2999           0.0         0.0     0.0          0.0               0.0\n",
       "3043           0.0         0.0     0.0          0.0               0.0\n",
       "19625          0.0         0.0     0.0          0.0               0.0\n",
       "24927          0.0         0.0     0.0          0.0               0.0\n",
       "40689          0.0         0.0     0.0          0.0               0.0\n",
       "42788          0.0         0.0     0.0          0.0               0.0\n",
       "50342          0.0         0.0     0.0          0.0               0.0\n",
       "67170          0.0         0.0     0.0          0.0               0.0\n",
       "67263          0.0         0.0     0.0          0.0               0.0\n",
       "67653          0.0         0.0     0.0          0.0               0.0\n",
       "68472          0.0         0.0     0.0          0.0               0.0\n",
       "79581          0.0         0.0     0.0          0.0               0.0\n",
       "84065          0.0         0.0     0.0          0.0               0.0\n",
       "89991          0.0         0.0     0.0          0.0               0.0\n",
       "95253          0.0         0.0     0.0          0.0               0.0\n",
       "111458         0.0         0.0     0.0          0.0               0.0\n",
       "116228         0.0         0.0     0.0          0.0               0.0\n",
       "116731         0.0         0.0     0.0          0.0               0.0\n",
       "119469         0.0         0.0     0.0          0.0               0.0"
      ]
     },
     "execution_count": 6,
     "metadata": {},
     "output_type": "execute_result"
    }
   ],
   "source": [
    "data1.loc[data1['arr_del15'].isna(),['carrier_ct', 'weather_ct', 'nas_ct', 'security_ct', 'late_aircraft_ct']]"
   ]
  },
  {
   "cell_type": "code",
   "execution_count": 7,
   "id": "3d67ae66",
   "metadata": {},
   "outputs": [
    {
     "data": {
      "text/plain": [
       "year                   0\n",
       "month                  0\n",
       "carrier                0\n",
       "carrier_name           0\n",
       "airport                0\n",
       "airport_name           0\n",
       "arr_flights            0\n",
       "arr_del15              0\n",
       "carrier_ct             0\n",
       "weather_ct             0\n",
       "nas_ct                 0\n",
       "security_ct            0\n",
       "late_aircraft_ct       0\n",
       "arr_cancelled          0\n",
       "arr_diverted           0\n",
       "arr_delay              0\n",
       "carrier_delay          0\n",
       "weather_delay          0\n",
       "nas_delay              0\n",
       "security_delay         0\n",
       "late_aircraft_delay    0\n",
       "dtype: int64"
      ]
     },
     "execution_count": 7,
     "metadata": {},
     "output_type": "execute_result"
    }
   ],
   "source": [
    "data1.fillna(0, inplace = True)\n",
    "data1.isnull().sum()"
   ]
  },
  {
   "cell_type": "code",
   "execution_count": 8,
   "id": "66bd5f6c",
   "metadata": {},
   "outputs": [
    {
     "data": {
      "text/plain": [
       "carrier     0\n",
       "start       0\n",
       "end        17\n",
       "dtype: int64"
      ]
     },
     "execution_count": 8,
     "metadata": {},
     "output_type": "execute_result"
    }
   ],
   "source": [
    "data2 = pd.read_csv('L_BUSY_AIRPORTS.csv')\n",
    "data3 = pd.read_csv('772082719_T_CARRIER_DECODE.csv')\n",
    "data4 = pd.read_csv('L_MARKETING_CARRIERS.csv')\n",
    "data5 = pd.read_csv('L_CARRIER_HISTORY.csv')\n",
    "data5.isnull().sum()"
   ]
  },
  {
   "cell_type": "code",
   "execution_count": 9,
   "id": "17633460",
   "metadata": {},
   "outputs": [
    {
     "data": {
      "text/plain": [
       "carrier          0\n",
       "start            0\n",
       "end              0\n",
       "establishment    0\n",
       "dtype: int64"
      ]
     },
     "execution_count": 9,
     "metadata": {},
     "output_type": "execute_result"
    }
   ],
   "source": [
    "data5.fillna(2021, inplace = True)\n",
    "data5['establishment'] = data5['end'] - data5['start']\n",
    "data5.isnull().sum()"
   ]
  },
  {
   "cell_type": "code",
   "execution_count": 10,
   "id": "71790408",
   "metadata": {},
   "outputs": [
    {
     "data": {
      "text/plain": [
       "(123761, 29)"
      ]
     },
     "execution_count": 10,
     "metadata": {},
     "output_type": "execute_result"
    }
   ],
   "source": [
    "data = data1.merge(data2, on = ['airport', 'airport_name'])\n",
    "data = data.merge(data3, on = ['carrier'])\n",
    "data = data.merge(data4, on = ['carrier'])\n",
    "data = data.merge(data5, on = ['carrier'])\n",
    "data['arr_on_time'] = data['arr_flights'] - data['arr_del15'] - data['arr_cancelled'] - data['arr_diverted']\n",
    "data['arr_del_rate'] = data['arr_del15']/data['arr_flights']\n",
    "data.shape"
   ]
  },
  {
   "cell_type": "code",
   "execution_count": 11,
   "id": "b984cef8",
   "metadata": {},
   "outputs": [
    {
     "data": {
      "text/plain": [
       "year                   0\n",
       "month                  0\n",
       "carrier                0\n",
       "carrier_name           0\n",
       "airport                0\n",
       "airport_name           0\n",
       "arr_flights            0\n",
       "arr_del15              0\n",
       "carrier_ct             0\n",
       "weather_ct             0\n",
       "nas_ct                 0\n",
       "security_ct            0\n",
       "late_aircraft_ct       0\n",
       "arr_cancelled          0\n",
       "arr_diverted           0\n",
       "arr_delay              0\n",
       "carrier_delay          0\n",
       "weather_delay          0\n",
       "nas_delay              0\n",
       "security_delay         0\n",
       "late_aircraft_delay    0\n",
       "busy                   0\n",
       "carrier_group          0\n",
       "marketing              0\n",
       "start                  0\n",
       "end                    0\n",
       "establishment          0\n",
       "arr_on_time            0\n",
       "arr_del_rate           0\n",
       "dtype: int64"
      ]
     },
     "execution_count": 11,
     "metadata": {},
     "output_type": "execute_result"
    }
   ],
   "source": [
    "data.isnull().sum()"
   ]
  },
  {
   "cell_type": "code",
   "execution_count": 12,
   "id": "f3ad0201",
   "metadata": {},
   "outputs": [
    {
     "data": {
      "text/html": [
       "<div>\n",
       "<style scoped>\n",
       "    .dataframe tbody tr th:only-of-type {\n",
       "        vertical-align: middle;\n",
       "    }\n",
       "\n",
       "    .dataframe tbody tr th {\n",
       "        vertical-align: top;\n",
       "    }\n",
       "\n",
       "    .dataframe thead th {\n",
       "        text-align: right;\n",
       "    }\n",
       "</style>\n",
       "<table border=\"1\" class=\"dataframe\">\n",
       "  <thead>\n",
       "    <tr style=\"text-align: right;\">\n",
       "      <th></th>\n",
       "      <th>year</th>\n",
       "      <th>month</th>\n",
       "      <th>carrier</th>\n",
       "      <th>carrier_name</th>\n",
       "      <th>airport</th>\n",
       "      <th>airport_name</th>\n",
       "      <th>arr_flights</th>\n",
       "      <th>arr_del15</th>\n",
       "      <th>carrier_ct</th>\n",
       "      <th>weather_ct</th>\n",
       "      <th>...</th>\n",
       "      <th>security_delay</th>\n",
       "      <th>late_aircraft_delay</th>\n",
       "      <th>busy</th>\n",
       "      <th>carrier_group</th>\n",
       "      <th>marketing</th>\n",
       "      <th>start</th>\n",
       "      <th>end</th>\n",
       "      <th>establishment</th>\n",
       "      <th>arr_on_time</th>\n",
       "      <th>arr_del_rate</th>\n",
       "    </tr>\n",
       "  </thead>\n",
       "  <tbody>\n",
       "    <tr>\n",
       "      <th>0</th>\n",
       "      <td>2019</td>\n",
       "      <td>1</td>\n",
       "      <td>MQ</td>\n",
       "      <td>Envoy Air</td>\n",
       "      <td>SAV</td>\n",
       "      <td>Savannah, GA: Savannah/Hilton Head International</td>\n",
       "      <td>65.0</td>\n",
       "      <td>15.0</td>\n",
       "      <td>3.41</td>\n",
       "      <td>0.71</td>\n",
       "      <td>...</td>\n",
       "      <td>0.0</td>\n",
       "      <td>263.0</td>\n",
       "      <td>0</td>\n",
       "      <td>3</td>\n",
       "      <td>0</td>\n",
       "      <td>1991</td>\n",
       "      <td>2021.0</td>\n",
       "      <td>30.0</td>\n",
       "      <td>48.0</td>\n",
       "      <td>0.230769</td>\n",
       "    </tr>\n",
       "    <tr>\n",
       "      <th>1</th>\n",
       "      <td>2019</td>\n",
       "      <td>2</td>\n",
       "      <td>MQ</td>\n",
       "      <td>Envoy Air</td>\n",
       "      <td>SAV</td>\n",
       "      <td>Savannah, GA: Savannah/Hilton Head International</td>\n",
       "      <td>60.0</td>\n",
       "      <td>12.0</td>\n",
       "      <td>5.52</td>\n",
       "      <td>0.68</td>\n",
       "      <td>...</td>\n",
       "      <td>0.0</td>\n",
       "      <td>222.0</td>\n",
       "      <td>0</td>\n",
       "      <td>3</td>\n",
       "      <td>0</td>\n",
       "      <td>1991</td>\n",
       "      <td>2021.0</td>\n",
       "      <td>30.0</td>\n",
       "      <td>47.0</td>\n",
       "      <td>0.200000</td>\n",
       "    </tr>\n",
       "    <tr>\n",
       "      <th>2</th>\n",
       "      <td>2019</td>\n",
       "      <td>3</td>\n",
       "      <td>MQ</td>\n",
       "      <td>Envoy Air</td>\n",
       "      <td>SAV</td>\n",
       "      <td>Savannah, GA: Savannah/Hilton Head International</td>\n",
       "      <td>72.0</td>\n",
       "      <td>13.0</td>\n",
       "      <td>2.38</td>\n",
       "      <td>0.14</td>\n",
       "      <td>...</td>\n",
       "      <td>0.0</td>\n",
       "      <td>228.0</td>\n",
       "      <td>0</td>\n",
       "      <td>3</td>\n",
       "      <td>0</td>\n",
       "      <td>1991</td>\n",
       "      <td>2021.0</td>\n",
       "      <td>30.0</td>\n",
       "      <td>59.0</td>\n",
       "      <td>0.180556</td>\n",
       "    </tr>\n",
       "    <tr>\n",
       "      <th>3</th>\n",
       "      <td>2019</td>\n",
       "      <td>4</td>\n",
       "      <td>MQ</td>\n",
       "      <td>Envoy Air</td>\n",
       "      <td>SAV</td>\n",
       "      <td>Savannah, GA: Savannah/Hilton Head International</td>\n",
       "      <td>68.0</td>\n",
       "      <td>12.0</td>\n",
       "      <td>1.74</td>\n",
       "      <td>1.34</td>\n",
       "      <td>...</td>\n",
       "      <td>0.0</td>\n",
       "      <td>384.0</td>\n",
       "      <td>0</td>\n",
       "      <td>3</td>\n",
       "      <td>0</td>\n",
       "      <td>1991</td>\n",
       "      <td>2021.0</td>\n",
       "      <td>30.0</td>\n",
       "      <td>54.0</td>\n",
       "      <td>0.176471</td>\n",
       "    </tr>\n",
       "    <tr>\n",
       "      <th>4</th>\n",
       "      <td>2019</td>\n",
       "      <td>5</td>\n",
       "      <td>MQ</td>\n",
       "      <td>Envoy Air</td>\n",
       "      <td>SAV</td>\n",
       "      <td>Savannah, GA: Savannah/Hilton Head International</td>\n",
       "      <td>70.0</td>\n",
       "      <td>15.0</td>\n",
       "      <td>0.75</td>\n",
       "      <td>2.84</td>\n",
       "      <td>...</td>\n",
       "      <td>0.0</td>\n",
       "      <td>277.0</td>\n",
       "      <td>0</td>\n",
       "      <td>3</td>\n",
       "      <td>0</td>\n",
       "      <td>1991</td>\n",
       "      <td>2021.0</td>\n",
       "      <td>30.0</td>\n",
       "      <td>54.0</td>\n",
       "      <td>0.214286</td>\n",
       "    </tr>\n",
       "  </tbody>\n",
       "</table>\n",
       "<p>5 rows × 29 columns</p>\n",
       "</div>"
      ],
      "text/plain": [
       "   year  month carrier carrier_name airport  \\\n",
       "0  2019      1      MQ    Envoy Air     SAV   \n",
       "1  2019      2      MQ    Envoy Air     SAV   \n",
       "2  2019      3      MQ    Envoy Air     SAV   \n",
       "3  2019      4      MQ    Envoy Air     SAV   \n",
       "4  2019      5      MQ    Envoy Air     SAV   \n",
       "\n",
       "                                       airport_name  arr_flights  arr_del15  \\\n",
       "0  Savannah, GA: Savannah/Hilton Head International         65.0       15.0   \n",
       "1  Savannah, GA: Savannah/Hilton Head International         60.0       12.0   \n",
       "2  Savannah, GA: Savannah/Hilton Head International         72.0       13.0   \n",
       "3  Savannah, GA: Savannah/Hilton Head International         68.0       12.0   \n",
       "4  Savannah, GA: Savannah/Hilton Head International         70.0       15.0   \n",
       "\n",
       "   carrier_ct  weather_ct  ...  security_delay  late_aircraft_delay  busy  \\\n",
       "0        3.41        0.71  ...             0.0                263.0     0   \n",
       "1        5.52        0.68  ...             0.0                222.0     0   \n",
       "2        2.38        0.14  ...             0.0                228.0     0   \n",
       "3        1.74        1.34  ...             0.0                384.0     0   \n",
       "4        0.75        2.84  ...             0.0                277.0     0   \n",
       "\n",
       "   carrier_group  marketing  start     end  establishment  arr_on_time  \\\n",
       "0              3          0   1991  2021.0           30.0         48.0   \n",
       "1              3          0   1991  2021.0           30.0         47.0   \n",
       "2              3          0   1991  2021.0           30.0         59.0   \n",
       "3              3          0   1991  2021.0           30.0         54.0   \n",
       "4              3          0   1991  2021.0           30.0         54.0   \n",
       "\n",
       "   arr_del_rate  \n",
       "0      0.230769  \n",
       "1      0.200000  \n",
       "2      0.180556  \n",
       "3      0.176471  \n",
       "4      0.214286  \n",
       "\n",
       "[5 rows x 29 columns]"
      ]
     },
     "execution_count": 12,
     "metadata": {},
     "output_type": "execute_result"
    }
   ],
   "source": [
    "data.head()"
   ]
  },
  {
   "cell_type": "markdown",
   "id": "07929cf2",
   "metadata": {},
   "source": [
    "Airport information:\n",
    "\n",
    "carrier: Airline code.\n",
    "\n",
    "carrier_name: Airline name.\n",
    "\n",
    "airport: Airport code.\n",
    "\n",
    "airport_name: Airport name.\n",
    "\n",
    "\n",
    "Airport statistics:\n",
    "\n",
    "arr_flights: Number of flights which arrived at the airport.\n",
    "\n",
    "arr_del15: Number of flights delayed (>= 15minutes late).\n",
    "\n",
    "carrier_ct: Number of flights delayed due to air carrier (e.g. maintenance or crew problems, aircraft cleaning, baggage loading, fueling, etc.).\n",
    "\n",
    "weather_ct: Number of flights delayed due to weather.\n",
    "\n",
    "nas_ct: Number of flights delayed due to National Aviation System (e.g. non-extreme weather conditions, airport operations, heavy traffic volume, and air traffic control).\n",
    "\n",
    "security_ct: Number of flights delayed due to security (e.g. evacuation of a terminal or concourse, re-boarding of aircraft because of security breach, inoperative screening equipment and/or long lines in excess of 29 minutes at screening areas).\n",
    "\n",
    "late_aircraft_ct: Number of flights delayed due to a previous flight using the same aircraft being late.\n",
    "\n",
    "arr_cancelled: Number of cancelled flights.\n",
    "\n",
    "arr_diverted: Number of diverted flights.\n",
    "\n",
    "arr_delay: Total time (minutes) of delayed flights.\n",
    "\n",
    "carrier_delay: Total time (minutes) of delayed flights due to air carrier.\n",
    "\n",
    "weather_delay: Total time (minutes) of delayed flights due to weather.\n",
    "\n",
    "nas_delay: Total time (minutes) of delayed flights due to National Aviation System.\n",
    "\n",
    "security_delay: Total time (minutes) of delayed flights due to security.\n",
    "\n",
    "late_aircraft_delay: Total time (minutes) of delayed flights due to a previous flight using the same aircraft being late."
   ]
  },
  {
   "cell_type": "markdown",
   "id": "10ab3c10",
   "metadata": {},
   "source": [
    "arr_flights arr_del15 carrier_ct weather_ct nas_ct security_ct late_aircraft_ct arr_cancelled arr_diverted arr_delay carrier_delay weather_delay nas_delay security_delay late_aircraft_delay arr_on_time"
   ]
  },
  {
   "cell_type": "markdown",
   "id": "c87a516a",
   "metadata": {},
   "source": [
    "## Section 1: Dataset Additional Information"
   ]
  },
  {
   "cell_type": "code",
   "execution_count": 13,
   "id": "5e230f39",
   "metadata": {},
   "outputs": [
    {
     "data": {
      "text/plain": [
       "20"
      ]
     },
     "execution_count": 13,
     "metadata": {},
     "output_type": "execute_result"
    }
   ],
   "source": [
    "len(np.unique(data['carrier']))"
   ]
  },
  {
   "cell_type": "code",
   "execution_count": 14,
   "id": "fc89c0fb",
   "metadata": {},
   "outputs": [
    {
     "data": {
      "text/plain": [
       "array(['9E', 'AA', 'AS', 'B6', 'DL', 'EV', 'F9', 'FL', 'G4', 'HA', 'MQ',\n",
       "       'NK', 'OH', 'OO', 'UA', 'US', 'VX', 'WN', 'YV', 'YX'], dtype=object)"
      ]
     },
     "execution_count": 14,
     "metadata": {},
     "output_type": "execute_result"
    }
   ],
   "source": [
    "np.unique(data['carrier'])"
   ]
  },
  {
   "cell_type": "code",
   "execution_count": 15,
   "id": "e1c6a16f",
   "metadata": {},
   "outputs": [
    {
     "data": {
      "text/plain": [
       "23"
      ]
     },
     "execution_count": 15,
     "metadata": {},
     "output_type": "execute_result"
    }
   ],
   "source": [
    "len(np.unique(data['carrier_name']))"
   ]
  },
  {
   "cell_type": "code",
   "execution_count": 16,
   "id": "a26c0179",
   "metadata": {},
   "outputs": [
    {
     "data": {
      "text/plain": [
       "array(['AirTran Airways Corporation', 'Alaska Airlines Inc.',\n",
       "       'Allegiant Air', 'American Airlines Inc.',\n",
       "       'American Eagle Airlines Inc.', 'Delta Air Lines Inc.',\n",
       "       'Endeavor Air Inc.', 'Envoy Air', 'ExpressJet Airlines Inc.',\n",
       "       'ExpressJet Airlines LLC', 'Frontier Airlines Inc.',\n",
       "       'Hawaiian Airlines Inc.', 'JetBlue Airways', 'Mesa Airlines Inc.',\n",
       "       'PSA Airlines Inc.', 'Pinnacle Airlines Inc.', 'Republic Airline',\n",
       "       'SkyWest Airlines Inc.', 'Southwest Airlines Co.',\n",
       "       'Spirit Air Lines', 'US Airways Inc.', 'United Air Lines Inc.',\n",
       "       'Virgin America'], dtype=object)"
      ]
     },
     "execution_count": 16,
     "metadata": {},
     "output_type": "execute_result"
    }
   ],
   "source": [
    "np.unique(data['carrier_name'])"
   ]
  },
  {
   "cell_type": "code",
   "execution_count": 17,
   "id": "ec28bfae",
   "metadata": {},
   "outputs": [
    {
     "data": {
      "text/plain": [
       "375"
      ]
     },
     "execution_count": 17,
     "metadata": {},
     "output_type": "execute_result"
    }
   ],
   "source": [
    "len(np.unique(data['airport']))"
   ]
  },
  {
   "cell_type": "code",
   "execution_count": 18,
   "id": "6ef644f1",
   "metadata": {},
   "outputs": [
    {
     "data": {
      "text/plain": [
       "375"
      ]
     },
     "execution_count": 18,
     "metadata": {},
     "output_type": "execute_result"
    }
   ],
   "source": [
    "len(np.unique(data['airport_name']))"
   ]
  },
  {
   "cell_type": "markdown",
   "id": "5a8f1daa",
   "metadata": {},
   "source": [
    "30 major airports: ATL, BWI, BOS, CLT, MDW, ORD, DFW, DEN, DTW, FLL, HNL, IAH, LAS, LAX, MIA, MSP, JFK, LGA, EWR, MCO, PHL, PHX, PDX, SLC, SAN, SFO, SEA, TPA, DCA, IAD."
   ]
  },
  {
   "cell_type": "markdown",
   "id": "cc2e537f",
   "metadata": {},
   "source": [
    "## Section 2:  On-Time Arrival Performance"
   ]
  },
  {
   "cell_type": "markdown",
   "id": "ec02223d",
   "metadata": {},
   "source": [
    "### 2.0: General Statistics"
   ]
  },
  {
   "cell_type": "code",
   "execution_count": 19,
   "id": "63c6c431",
   "metadata": {},
   "outputs": [
    {
     "data": {
      "text/html": [
       "<div>\n",
       "<style scoped>\n",
       "    .dataframe tbody tr th:only-of-type {\n",
       "        vertical-align: middle;\n",
       "    }\n",
       "\n",
       "    .dataframe tbody tr th {\n",
       "        vertical-align: top;\n",
       "    }\n",
       "\n",
       "    .dataframe thead th {\n",
       "        text-align: right;\n",
       "    }\n",
       "</style>\n",
       "<table border=\"1\" class=\"dataframe\">\n",
       "  <thead>\n",
       "    <tr style=\"text-align: right;\">\n",
       "      <th></th>\n",
       "      <th>Number of Flights which Arrived at the Airport</th>\n",
       "      <th>Percentage of Total Number of Flights which Arrived at the Airport</th>\n",
       "    </tr>\n",
       "  </thead>\n",
       "  <tbody>\n",
       "    <tr>\n",
       "      <th>Number of On-time Flights</th>\n",
       "      <td>39797777.0</td>\n",
       "      <td>0.795432</td>\n",
       "    </tr>\n",
       "    <tr>\n",
       "      <th>Number of Flights Delayed</th>\n",
       "      <td>9324078.0</td>\n",
       "      <td>0.186359</td>\n",
       "    </tr>\n",
       "    <tr>\n",
       "      <th>Number of Cancelled Flights</th>\n",
       "      <td>791805.0</td>\n",
       "      <td>0.015826</td>\n",
       "    </tr>\n",
       "    <tr>\n",
       "      <th>Number of Diverted Flights</th>\n",
       "      <td>119236.0</td>\n",
       "      <td>0.002383</td>\n",
       "    </tr>\n",
       "  </tbody>\n",
       "</table>\n",
       "</div>"
      ],
      "text/plain": [
       "                             Number of Flights which Arrived at the Airport  \\\n",
       "Number of On-time Flights                                        39797777.0   \n",
       "Number of Flights Delayed                                         9324078.0   \n",
       "Number of Cancelled Flights                                        791805.0   \n",
       "Number of Diverted Flights                                         119236.0   \n",
       "\n",
       "                             Percentage of Total Number of Flights which Arrived at the Airport  \n",
       "Number of On-time Flights                                             0.795432                   \n",
       "Number of Flights Delayed                                             0.186359                   \n",
       "Number of Cancelled Flights                                           0.015826                   \n",
       "Number of Diverted Flights                                            0.002383                   "
      ]
     },
     "execution_count": 19,
     "metadata": {},
     "output_type": "execute_result"
    }
   ],
   "source": [
    "df1 = pd.DataFrame(data[['arr_on_time', 'arr_del15', 'arr_cancelled', 'arr_diverted']].sum(), columns = ['Number of Flights which Arrived at the Airport'])\n",
    "df2 = pd.DataFrame(data[['arr_on_time', 'arr_del15', 'arr_cancelled', 'arr_diverted']].sum()/data['arr_flights'].sum(), columns = ['Percentage of Total Number of Flights which Arrived at the Airport'])\n",
    "tab1 = df1.merge(df2, left_index = True, right_index = True)\n",
    "tab1.set_index([['Number of On-time Flights', 'Number of Flights Delayed', 'Number of Cancelled Flights', 'Number of Diverted Flights']], inplace = True)\n",
    "tab1"
   ]
  },
  {
   "cell_type": "code",
   "execution_count": 20,
   "id": "998316dc",
   "metadata": {},
   "outputs": [
    {
     "data": {
      "text/html": [
       "<div>\n",
       "<style scoped>\n",
       "    .dataframe tbody tr th:only-of-type {\n",
       "        vertical-align: middle;\n",
       "    }\n",
       "\n",
       "    .dataframe tbody tr th {\n",
       "        vertical-align: top;\n",
       "    }\n",
       "\n",
       "    .dataframe thead th {\n",
       "        text-align: right;\n",
       "    }\n",
       "</style>\n",
       "<table border=\"1\" class=\"dataframe\">\n",
       "  <thead>\n",
       "    <tr style=\"text-align: right;\">\n",
       "      <th></th>\n",
       "      <th>Number of Flights Delayed</th>\n",
       "      <th>Percentage of Total Flights Delayed</th>\n",
       "      <th>Time (Minutes) of Delayed Flights</th>\n",
       "      <th>Percentage of Total Time (Minutes) of Delayed Flights</th>\n",
       "    </tr>\n",
       "  </thead>\n",
       "  <tbody>\n",
       "    <tr>\n",
       "      <th>Delayed Flights due to Air Carrier</th>\n",
       "      <td>2665509.81</td>\n",
       "      <td>0.285874</td>\n",
       "      <td>176454698.0</td>\n",
       "      <td>0.309071</td>\n",
       "    </tr>\n",
       "    <tr>\n",
       "      <th>Delayed Flights due to Weather</th>\n",
       "      <td>287638.02</td>\n",
       "      <td>0.030849</td>\n",
       "      <td>26950283.0</td>\n",
       "      <td>0.047205</td>\n",
       "    </tr>\n",
       "    <tr>\n",
       "      <th>Delayed Flights due to National Aviation System</th>\n",
       "      <td>2880620.24</td>\n",
       "      <td>0.308944</td>\n",
       "      <td>136315692.0</td>\n",
       "      <td>0.238765</td>\n",
       "    </tr>\n",
       "    <tr>\n",
       "      <th>Delayed Flights due to Security</th>\n",
       "      <td>16666.99</td>\n",
       "      <td>0.001788</td>\n",
       "      <td>759148.0</td>\n",
       "      <td>0.001330</td>\n",
       "    </tr>\n",
       "    <tr>\n",
       "      <th>Delayed Flights due to a Previous Flight using the Same Aircraft Being Late</th>\n",
       "      <td>3473649.23</td>\n",
       "      <td>0.372546</td>\n",
       "      <td>230439950.0</td>\n",
       "      <td>0.403629</td>\n",
       "    </tr>\n",
       "  </tbody>\n",
       "</table>\n",
       "</div>"
      ],
      "text/plain": [
       "                                                    Number of Flights Delayed  \\\n",
       "Delayed Flights due to Air Carrier                                 2665509.81   \n",
       "Delayed Flights due to Weather                                      287638.02   \n",
       "Delayed Flights due to National Aviation System                    2880620.24   \n",
       "Delayed Flights due to Security                                      16666.99   \n",
       "Delayed Flights due to a Previous Flight using ...                 3473649.23   \n",
       "\n",
       "                                                    Percentage of Total Flights Delayed  \\\n",
       "Delayed Flights due to Air Carrier                                             0.285874   \n",
       "Delayed Flights due to Weather                                                 0.030849   \n",
       "Delayed Flights due to National Aviation System                                0.308944   \n",
       "Delayed Flights due to Security                                                0.001788   \n",
       "Delayed Flights due to a Previous Flight using ...                             0.372546   \n",
       "\n",
       "                                                    Time (Minutes) of Delayed Flights  \\\n",
       "Delayed Flights due to Air Carrier                                        176454698.0   \n",
       "Delayed Flights due to Weather                                             26950283.0   \n",
       "Delayed Flights due to National Aviation System                           136315692.0   \n",
       "Delayed Flights due to Security                                              759148.0   \n",
       "Delayed Flights due to a Previous Flight using ...                        230439950.0   \n",
       "\n",
       "                                                    Percentage of Total Time (Minutes) of Delayed Flights  \n",
       "Delayed Flights due to Air Carrier                                                           0.309071      \n",
       "Delayed Flights due to Weather                                                               0.047205      \n",
       "Delayed Flights due to National Aviation System                                              0.238765      \n",
       "Delayed Flights due to Security                                                              0.001330      \n",
       "Delayed Flights due to a Previous Flight using ...                                           0.403629      "
      ]
     },
     "execution_count": 20,
     "metadata": {},
     "output_type": "execute_result"
    }
   ],
   "source": [
    "df3 = pd.DataFrame(data[['carrier_ct', 'weather_ct', 'nas_ct', 'security_ct', 'late_aircraft_ct']].sum(), columns = ['Number of Flights Delayed'])\n",
    "df4 = pd.DataFrame(data[['carrier_ct', 'weather_ct', 'nas_ct', 'security_ct', 'late_aircraft_ct']].sum()/data['arr_del15'].sum(), columns = ['Percentage of Total Flights Delayed'])\n",
    "tab2a = df3.merge(df4, left_index = True, right_index = True)\n",
    "tab2a.set_index([['Delayed Flights due to Air Carrier', 'Delayed Flights due to Weather', 'Delayed Flights due to National Aviation System', 'Delayed Flights due to Security', 'Delayed Flights due to a Previous Flight using the Same Aircraft Being Late']], inplace = True)\n",
    "\n",
    "df5 = pd.DataFrame(data[['carrier_delay', 'weather_delay', 'nas_delay', 'security_delay', 'late_aircraft_delay']].sum(), columns = ['Time (Minutes) of Delayed Flights'])\n",
    "df6 = pd.DataFrame(data[['carrier_delay', 'weather_delay', 'nas_delay', 'security_delay', 'late_aircraft_delay']].sum()/data['arr_delay'].sum(), columns = ['Percentage of Total Time (Minutes) of Delayed Flights'])\n",
    "tab2b = df5.merge(df6, left_index = True, right_index = True)\n",
    "tab2b.set_index([['Delayed Flights due to Air Carrier', 'Delayed Flights due to Weather', 'Delayed Flights due to National Aviation System', 'Delayed Flights due to Security', 'Delayed Flights due to a Previous Flight using the Same Aircraft Being Late']], inplace = True)\n",
    "\n",
    "tab2 = tab2a.merge(tab2b, left_index = True, right_index = True)\n",
    "tab2"
   ]
  },
  {
   "cell_type": "markdown",
   "id": "17d42d3f",
   "metadata": {},
   "source": [
    "### 2.1: By Year (General)"
   ]
  },
  {
   "cell_type": "code",
   "execution_count": 21,
   "id": "b4c963f0",
   "metadata": {},
   "outputs": [
    {
     "data": {
      "text/plain": [
       "[Text(0, 0, '17.34'),\n",
       " Text(0, 0, '20.82'),\n",
       " Text(0, 0, '22.02'),\n",
       " Text(0, 0, '19.04'),\n",
       " Text(0, 0, '16.98'),\n",
       " Text(0, 0, '18.14'),\n",
       " Text(0, 0, '19.50'),\n",
       " Text(0, 0, '19.54')]"
      ]
     },
     "execution_count": 21,
     "metadata": {},
     "output_type": "execute_result"
    },
    {
     "data": {
      "image/png": "[encoded data removed]",
      "text/plain": [
       "<Figure size 698.4x432 with 1 Axes>"
      ]
     },
     "metadata": {},
     "output_type": "display_data"
    }
   ],
   "source": [
    "del_year = data[['year', 'arr_del_rate']].groupby('year').mean().reset_index()\n",
    "\n",
    "fig, ax = plt.subplots(figsize = (9.7, 6))\n",
    "#fig, ax = plt.subplots(figsize = (4.85, 3))\n",
    "plot = sns.barplot(x = 'year', y = 'arr_del_rate', data = del_year, palette = 'Set2')\n",
    "ax.set_xlabel('Year')\n",
    "ax.set_ylabel('Delay Rate')\n",
    "ax.set_ylim(0, 0.25) \n",
    "plot.bar_label(plot.containers[0], labels = ['17.34', '20.82', '22.02', '19.04', '16.98', '18.14', '19.50', '19.54'])"
   ]
  },
  {
   "cell_type": "markdown",
   "id": "d4e92867",
   "metadata": {},
   "source": [
    "### 2.2: By Month (General)"
   ]
  },
  {
   "cell_type": "code",
   "execution_count": 22,
   "id": "f060f146",
   "metadata": {},
   "outputs": [
    {
     "data": {
      "text/plain": [
       "Text(0, 0.5, 'Delay Rate')"
      ]
     },
     "execution_count": 22,
     "metadata": {},
     "output_type": "execute_result"
    },
    {
     "data": {
      "image/png": "[encoded data removed]",
      "text/plain": [
       "<Figure size 698.4x432 with 1 Axes>"
      ]
     },
     "metadata": {},
     "output_type": "display_data"
    }
   ],
   "source": [
    "del_month = data[['month', 'arr_del_rate']]\n",
    "\n",
    "fig, ax = plt.subplots(figsize = (9.7, 6))\n",
    "sns.violinplot(x = 'month', y = 'arr_del_rate', data = del_month)\n",
    "ax.set_xlabel('Month')\n",
    "ax.set_ylabel('Delay Rate')"
   ]
  },
  {
   "cell_type": "code",
   "execution_count": 23,
   "id": "f56d3e65",
   "metadata": {},
   "outputs": [
    {
     "data": {
      "text/plain": [
       "Text(0, 0.5, 'Delay Rate')"
      ]
     },
     "execution_count": 23,
     "metadata": {},
     "output_type": "execute_result"
    },
    {
     "data": {
      "image/png": "[encoded data removed]",
      "text/plain": [
       "<Figure size 1164.96x720 with 1 Axes>"
      ]
     },
     "metadata": {},
     "output_type": "display_data"
    }
   ],
   "source": [
    "del_year_month = data[['year', 'month', 'arr_del_rate']].groupby(['year', 'month']).mean().reset_index()\n",
    "\n",
    "fig, ax = plt.subplots(figsize = (16.18, 10))\n",
    "#fig, ax = plt.subplots(figsize = (4.85, 3))\n",
    "sns.lineplot(x = 'month', y = 'arr_del_rate', hue = 'year', data = del_year_month, palette = 'Set2', legend = False)\n",
    "ax.set_xlabel('Month')\n",
    "ax.set_ylabel('Delay Rate')"
   ]
  },
  {
   "cell_type": "code",
   "execution_count": 24,
   "id": "b06f3349",
   "metadata": {},
   "outputs": [
    {
     "data": {
      "text/html": [
       "<div>\n",
       "<style scoped>\n",
       "    .dataframe tbody tr th:only-of-type {\n",
       "        vertical-align: middle;\n",
       "    }\n",
       "\n",
       "    .dataframe tbody tr th {\n",
       "        vertical-align: top;\n",
       "    }\n",
       "\n",
       "    .dataframe thead th {\n",
       "        text-align: right;\n",
       "    }\n",
       "</style>\n",
       "<table border=\"1\" class=\"dataframe\">\n",
       "  <thead>\n",
       "    <tr style=\"text-align: right;\">\n",
       "      <th></th>\n",
       "      <th>year</th>\n",
       "      <th>month</th>\n",
       "      <th>arr_del_rate</th>\n",
       "    </tr>\n",
       "  </thead>\n",
       "  <tbody>\n",
       "    <tr>\n",
       "      <th>0</th>\n",
       "      <td>2012</td>\n",
       "      <td>1</td>\n",
       "      <td>0.157136</td>\n",
       "    </tr>\n",
       "    <tr>\n",
       "      <th>1</th>\n",
       "      <td>2012</td>\n",
       "      <td>2</td>\n",
       "      <td>0.141524</td>\n",
       "    </tr>\n",
       "    <tr>\n",
       "      <th>2</th>\n",
       "      <td>2012</td>\n",
       "      <td>3</td>\n",
       "      <td>0.177775</td>\n",
       "    </tr>\n",
       "    <tr>\n",
       "      <th>3</th>\n",
       "      <td>2012</td>\n",
       "      <td>4</td>\n",
       "      <td>0.133620</td>\n",
       "    </tr>\n",
       "    <tr>\n",
       "      <th>4</th>\n",
       "      <td>2012</td>\n",
       "      <td>5</td>\n",
       "      <td>0.161345</td>\n",
       "    </tr>\n",
       "    <tr>\n",
       "      <th>...</th>\n",
       "      <td>...</td>\n",
       "      <td>...</td>\n",
       "      <td>...</td>\n",
       "    </tr>\n",
       "    <tr>\n",
       "      <th>91</th>\n",
       "      <td>2019</td>\n",
       "      <td>8</td>\n",
       "      <td>0.210232</td>\n",
       "    </tr>\n",
       "    <tr>\n",
       "      <th>92</th>\n",
       "      <td>2019</td>\n",
       "      <td>9</td>\n",
       "      <td>0.145480</td>\n",
       "    </tr>\n",
       "    <tr>\n",
       "      <th>93</th>\n",
       "      <td>2019</td>\n",
       "      <td>10</td>\n",
       "      <td>0.174070</td>\n",
       "    </tr>\n",
       "    <tr>\n",
       "      <th>94</th>\n",
       "      <td>2019</td>\n",
       "      <td>11</td>\n",
       "      <td>0.151159</td>\n",
       "    </tr>\n",
       "    <tr>\n",
       "      <th>95</th>\n",
       "      <td>2019</td>\n",
       "      <td>12</td>\n",
       "      <td>0.203028</td>\n",
       "    </tr>\n",
       "  </tbody>\n",
       "</table>\n",
       "<p>96 rows × 3 columns</p>\n",
       "</div>"
      ],
      "text/plain": [
       "    year  month  arr_del_rate\n",
       "0   2012      1      0.157136\n",
       "1   2012      2      0.141524\n",
       "2   2012      3      0.177775\n",
       "3   2012      4      0.133620\n",
       "4   2012      5      0.161345\n",
       "..   ...    ...           ...\n",
       "91  2019      8      0.210232\n",
       "92  2019      9      0.145480\n",
       "93  2019     10      0.174070\n",
       "94  2019     11      0.151159\n",
       "95  2019     12      0.203028\n",
       "\n",
       "[96 rows x 3 columns]"
      ]
     },
     "execution_count": 24,
     "metadata": {},
     "output_type": "execute_result"
    }
   ],
   "source": [
    "del_year_month"
   ]
  },
  {
   "cell_type": "markdown",
   "id": "73f88141",
   "metadata": {},
   "source": [
    "### 2.3: By Flight Status"
   ]
  },
  {
   "cell_type": "code",
   "execution_count": 25,
   "id": "3272a4a2",
   "metadata": {},
   "outputs": [
    {
     "name": "stdout",
     "output_type": "stream",
     "text": [
      "               On Time  Aircraft Arriving Late  \\\n",
      "flight_status   79.54%                   6.94%   \n",
      "\n",
      "               National Aviation System Delay  Air Carrier Delay  Cancelled  \\\n",
      "flight_status                           5.76%              5.33%      1.58%   \n",
      "\n",
      "               Weather Delay  Diverted  Security Delay  \n",
      "flight_status          0.57%     0.24%           0.03%  \n"
     ]
    }
   ],
   "source": [
    "del_status = pd.DataFrame(data[['arr_on_time', 'late_aircraft_ct', 'nas_ct', 'carrier_ct', 'arr_cancelled', 'weather_ct', 'arr_diverted', 'security_ct']].sum()/data['arr_flights'].sum(), columns = ['flight_status']).transpose()\n",
    "del_status.set_axis(['On Time', 'Aircraft Arriving Late', 'National Aviation System Delay', 'Air Carrier Delay', 'Cancelled', 'Weather Delay', 'Diverted', 'Security Delay'], axis = 1, inplace = True)\n",
    "with pd.option_context('display.float_format', '{:,.2%}'.format): \n",
    "    print(del_status)"
   ]
  },
  {
   "cell_type": "code",
   "execution_count": 26,
   "id": "cf465417",
   "metadata": {},
   "outputs": [
    {
     "data": {
      "text/plain": [
       "(0.0, 0.86)"
      ]
     },
     "execution_count": 26,
     "metadata": {},
     "output_type": "execute_result"
    },
    {
     "data": {
      "image/png": "[encoded data removed]",
      "text/plain": [
       "<Figure size 698.4x432 with 1 Axes>"
      ]
     },
     "metadata": {},
     "output_type": "display_data"
    }
   ],
   "source": [
    "fig, ax = plt.subplots(figsize = (9.7, 6))\n",
    "plot = sns.barplot(data = del_status, orient = 'h')\n",
    "plot.bar_label(plot.containers[0], labels = ['79.54%', '6.94%', '5.76%', '5.33%', '1.58%', '0.57%', '0.24%', '0.03%'])\n",
    "ax.set_title('January 2012 - December 2019')\n",
    "ax.set(xlabel = 'Percentage of Total Flight Operations')\n",
    "ax.set_xlim([0, 0.86])"
   ]
  },
  {
   "cell_type": "markdown",
   "id": "8319852b",
   "metadata": {},
   "source": [
    "### 2.4: By Busiest and Less Busy Airport  (Year)"
   ]
  },
  {
   "cell_type": "code",
   "execution_count": 27,
   "id": "e8911705",
   "metadata": {
    "scrolled": false
   },
   "outputs": [
    {
     "data": {
      "text/plain": [
       "<matplotlib.legend.Legend at 0x204325c7b50>"
      ]
     },
     "execution_count": 27,
     "metadata": {},
     "output_type": "execute_result"
    },
    {
     "data": {
      "image/png": "[encoded data removed]",
      "text/plain": [
       "<Figure size 698.4x432 with 1 Axes>"
      ]
     },
     "metadata": {},
     "output_type": "display_data"
    }
   ],
   "source": [
    "busy_year = data[['year', 'arr_del_rate', 'busy']].groupby(['year', 'busy']).mean().reset_index()\n",
    "\n",
    "fig, ax = plt.subplots(figsize = (9.7, 6))\n",
    "sns.lineplot(x = 'year', y = 'arr_del_rate', hue = 'busy', data = busy_year)\n",
    "ax.set_xlabel('Year')\n",
    "ax.set_ylabel('Delay Rate')\n",
    "ax.legend(labels = ['Less Busy Airports ', 'Busiest Airports'])"
   ]
  },
  {
   "cell_type": "code",
   "execution_count": 28,
   "id": "45fbb69e",
   "metadata": {},
   "outputs": [
    {
     "data": {
      "text/html": [
       "<div>\n",
       "<style scoped>\n",
       "    .dataframe tbody tr th:only-of-type {\n",
       "        vertical-align: middle;\n",
       "    }\n",
       "\n",
       "    .dataframe tbody tr th {\n",
       "        vertical-align: top;\n",
       "    }\n",
       "\n",
       "    .dataframe thead th {\n",
       "        text-align: right;\n",
       "    }\n",
       "</style>\n",
       "<table border=\"1\" class=\"dataframe\">\n",
       "  <thead>\n",
       "    <tr style=\"text-align: right;\">\n",
       "      <th></th>\n",
       "      <th>year</th>\n",
       "      <th>busy</th>\n",
       "      <th>arr_del_rate</th>\n",
       "    </tr>\n",
       "  </thead>\n",
       "  <tbody>\n",
       "    <tr>\n",
       "      <th>0</th>\n",
       "      <td>2012</td>\n",
       "      <td>0</td>\n",
       "      <td>0.169685</td>\n",
       "    </tr>\n",
       "    <tr>\n",
       "      <th>1</th>\n",
       "      <td>2012</td>\n",
       "      <td>1</td>\n",
       "      <td>0.183938</td>\n",
       "    </tr>\n",
       "    <tr>\n",
       "      <th>2</th>\n",
       "      <td>2013</td>\n",
       "      <td>0</td>\n",
       "      <td>0.206582</td>\n",
       "    </tr>\n",
       "    <tr>\n",
       "      <th>3</th>\n",
       "      <td>2013</td>\n",
       "      <td>1</td>\n",
       "      <td>0.212915</td>\n",
       "    </tr>\n",
       "    <tr>\n",
       "      <th>4</th>\n",
       "      <td>2014</td>\n",
       "      <td>0</td>\n",
       "      <td>0.221117</td>\n",
       "    </tr>\n",
       "    <tr>\n",
       "      <th>5</th>\n",
       "      <td>2014</td>\n",
       "      <td>1</td>\n",
       "      <td>0.217472</td>\n",
       "    </tr>\n",
       "    <tr>\n",
       "      <th>6</th>\n",
       "      <td>2015</td>\n",
       "      <td>0</td>\n",
       "      <td>0.185616</td>\n",
       "    </tr>\n",
       "    <tr>\n",
       "      <th>7</th>\n",
       "      <td>2015</td>\n",
       "      <td>1</td>\n",
       "      <td>0.204002</td>\n",
       "    </tr>\n",
       "    <tr>\n",
       "      <th>8</th>\n",
       "      <td>2016</td>\n",
       "      <td>0</td>\n",
       "      <td>0.161833</td>\n",
       "    </tr>\n",
       "    <tr>\n",
       "      <th>9</th>\n",
       "      <td>2016</td>\n",
       "      <td>1</td>\n",
       "      <td>0.191578</td>\n",
       "    </tr>\n",
       "    <tr>\n",
       "      <th>10</th>\n",
       "      <td>2017</td>\n",
       "      <td>0</td>\n",
       "      <td>0.173942</td>\n",
       "    </tr>\n",
       "    <tr>\n",
       "      <th>11</th>\n",
       "      <td>2017</td>\n",
       "      <td>1</td>\n",
       "      <td>0.202090</td>\n",
       "    </tr>\n",
       "    <tr>\n",
       "      <th>12</th>\n",
       "      <td>2018</td>\n",
       "      <td>0</td>\n",
       "      <td>0.189349</td>\n",
       "    </tr>\n",
       "    <tr>\n",
       "      <th>13</th>\n",
       "      <td>2018</td>\n",
       "      <td>1</td>\n",
       "      <td>0.209291</td>\n",
       "    </tr>\n",
       "    <tr>\n",
       "      <th>14</th>\n",
       "      <td>2019</td>\n",
       "      <td>0</td>\n",
       "      <td>0.190126</td>\n",
       "    </tr>\n",
       "    <tr>\n",
       "      <th>15</th>\n",
       "      <td>2019</td>\n",
       "      <td>1</td>\n",
       "      <td>0.212278</td>\n",
       "    </tr>\n",
       "  </tbody>\n",
       "</table>\n",
       "</div>"
      ],
      "text/plain": [
       "    year  busy  arr_del_rate\n",
       "0   2012     0      0.169685\n",
       "1   2012     1      0.183938\n",
       "2   2013     0      0.206582\n",
       "3   2013     1      0.212915\n",
       "4   2014     0      0.221117\n",
       "5   2014     1      0.217472\n",
       "6   2015     0      0.185616\n",
       "7   2015     1      0.204002\n",
       "8   2016     0      0.161833\n",
       "9   2016     1      0.191578\n",
       "10  2017     0      0.173942\n",
       "11  2017     1      0.202090\n",
       "12  2018     0      0.189349\n",
       "13  2018     1      0.209291\n",
       "14  2019     0      0.190126\n",
       "15  2019     1      0.212278"
      ]
     },
     "execution_count": 28,
     "metadata": {},
     "output_type": "execute_result"
    }
   ],
   "source": [
    "busy_year"
   ]
  },
  {
   "cell_type": "markdown",
   "id": "f4bd2ddf",
   "metadata": {},
   "source": [
    "### 2.5: By Busiest and Less Busy Airport  (Month)"
   ]
  },
  {
   "cell_type": "code",
   "execution_count": 29,
   "id": "4aa8f9e0",
   "metadata": {},
   "outputs": [
    {
     "data": {
      "text/plain": [
       "<matplotlib.legend.Legend at 0x20432c07f40>"
      ]
     },
     "execution_count": 29,
     "metadata": {},
     "output_type": "execute_result"
    },
    {
     "data": {
      "image/png": "[encoded data removed]",
      "text/plain": [
       "<Figure size 698.4x432 with 1 Axes>"
      ]
     },
     "metadata": {},
     "output_type": "display_data"
    }
   ],
   "source": [
    "busy_month = data[['month', 'arr_del_rate', 'busy']].groupby(['month', 'busy']).mean().reset_index()\n",
    "\n",
    "fig, ax = plt.subplots(figsize = (9.7, 6))\n",
    "sns.barplot(x = busy_month['month'], y = busy_month[busy_month['busy'] == 1]['arr_del_rate'], label = 'Busiest Airports', color = 'r')\n",
    "sns.barplot(x = busy_month['month'], y = busy_month[busy_month['busy'] == 0]['arr_del_rate'], label = 'Less Busy Airports', color = 'b')\n",
    "ax.set_title('January 2012 - December 2019')\n",
    "ax.set_xlabel('Month')\n",
    "ax.set_ylabel('Delay Rate')\n",
    "ax.set_ylim(0.12, 0.25)\n",
    "ax.legend()"
   ]
  },
  {
   "cell_type": "code",
   "execution_count": 30,
   "id": "7e6e9b39",
   "metadata": {},
   "outputs": [
    {
     "data": {
      "text/plain": [
       "<matplotlib.legend.Legend at 0x20432cdec70>"
      ]
     },
     "execution_count": 30,
     "metadata": {},
     "output_type": "execute_result"
    },
    {
     "data": {
      "image/png": "[encoded data removed]",
      "text/plain": [
       "<Figure size 698.4x432 with 1 Axes>"
      ]
     },
     "metadata": {},
     "output_type": "display_data"
    }
   ],
   "source": [
    "fig, ax = plt.subplots(figsize = (9.7, 6))\n",
    "#fig, ax = plt.subplots(figsize = (4.85, 3))\n",
    "\n",
    "sns.lineplot(x = 'month', y = 'arr_del_rate', hue = 'busy', data = busy_month)\n",
    "ax.set_title('January 2012 - December 2019')\n",
    "ax.set_xlabel('Month')\n",
    "ax.set_ylabel('Delay Rate')\n",
    "ax.set_ylim(0.12, 0.25)\n",
    "ax.legend(labels = ['Less Busy Airports ', 'Busiest Airports'])"
   ]
  },
  {
   "cell_type": "code",
   "execution_count": 31,
   "id": "ddbe68d1",
   "metadata": {},
   "outputs": [
    {
     "data": {
      "text/html": [
       "<div>\n",
       "<style scoped>\n",
       "    .dataframe tbody tr th:only-of-type {\n",
       "        vertical-align: middle;\n",
       "    }\n",
       "\n",
       "    .dataframe tbody tr th {\n",
       "        vertical-align: top;\n",
       "    }\n",
       "\n",
       "    .dataframe thead th {\n",
       "        text-align: right;\n",
       "    }\n",
       "</style>\n",
       "<table border=\"1\" class=\"dataframe\">\n",
       "  <thead>\n",
       "    <tr style=\"text-align: right;\">\n",
       "      <th></th>\n",
       "      <th>month</th>\n",
       "      <th>busy</th>\n",
       "      <th>arr_del_rate</th>\n",
       "    </tr>\n",
       "  </thead>\n",
       "  <tbody>\n",
       "    <tr>\n",
       "      <th>0</th>\n",
       "      <td>1</td>\n",
       "      <td>0</td>\n",
       "      <td>0.200078</td>\n",
       "    </tr>\n",
       "    <tr>\n",
       "      <th>1</th>\n",
       "      <td>1</td>\n",
       "      <td>1</td>\n",
       "      <td>0.208289</td>\n",
       "    </tr>\n",
       "    <tr>\n",
       "      <th>2</th>\n",
       "      <td>2</td>\n",
       "      <td>0</td>\n",
       "      <td>0.195451</td>\n",
       "    </tr>\n",
       "    <tr>\n",
       "      <th>3</th>\n",
       "      <td>2</td>\n",
       "      <td>1</td>\n",
       "      <td>0.205879</td>\n",
       "    </tr>\n",
       "    <tr>\n",
       "      <th>4</th>\n",
       "      <td>3</td>\n",
       "      <td>0</td>\n",
       "      <td>0.178464</td>\n",
       "    </tr>\n",
       "    <tr>\n",
       "      <th>5</th>\n",
       "      <td>3</td>\n",
       "      <td>1</td>\n",
       "      <td>0.197430</td>\n",
       "    </tr>\n",
       "    <tr>\n",
       "      <th>6</th>\n",
       "      <td>4</td>\n",
       "      <td>0</td>\n",
       "      <td>0.169908</td>\n",
       "    </tr>\n",
       "    <tr>\n",
       "      <th>7</th>\n",
       "      <td>4</td>\n",
       "      <td>1</td>\n",
       "      <td>0.192847</td>\n",
       "    </tr>\n",
       "    <tr>\n",
       "      <th>8</th>\n",
       "      <td>5</td>\n",
       "      <td>0</td>\n",
       "      <td>0.181763</td>\n",
       "    </tr>\n",
       "    <tr>\n",
       "      <th>9</th>\n",
       "      <td>5</td>\n",
       "      <td>1</td>\n",
       "      <td>0.205037</td>\n",
       "    </tr>\n",
       "    <tr>\n",
       "      <th>10</th>\n",
       "      <td>6</td>\n",
       "      <td>0</td>\n",
       "      <td>0.230366</td>\n",
       "    </tr>\n",
       "    <tr>\n",
       "      <th>11</th>\n",
       "      <td>6</td>\n",
       "      <td>1</td>\n",
       "      <td>0.246364</td>\n",
       "    </tr>\n",
       "    <tr>\n",
       "      <th>12</th>\n",
       "      <td>7</td>\n",
       "      <td>0</td>\n",
       "      <td>0.224769</td>\n",
       "    </tr>\n",
       "    <tr>\n",
       "      <th>13</th>\n",
       "      <td>7</td>\n",
       "      <td>1</td>\n",
       "      <td>0.242014</td>\n",
       "    </tr>\n",
       "    <tr>\n",
       "      <th>14</th>\n",
       "      <td>8</td>\n",
       "      <td>0</td>\n",
       "      <td>0.204029</td>\n",
       "    </tr>\n",
       "    <tr>\n",
       "      <th>15</th>\n",
       "      <td>8</td>\n",
       "      <td>1</td>\n",
       "      <td>0.220610</td>\n",
       "    </tr>\n",
       "    <tr>\n",
       "      <th>16</th>\n",
       "      <td>9</td>\n",
       "      <td>0</td>\n",
       "      <td>0.147105</td>\n",
       "    </tr>\n",
       "    <tr>\n",
       "      <th>17</th>\n",
       "      <td>9</td>\n",
       "      <td>1</td>\n",
       "      <td>0.166716</td>\n",
       "    </tr>\n",
       "    <tr>\n",
       "      <th>18</th>\n",
       "      <td>10</td>\n",
       "      <td>0</td>\n",
       "      <td>0.154629</td>\n",
       "    </tr>\n",
       "    <tr>\n",
       "      <th>19</th>\n",
       "      <td>10</td>\n",
       "      <td>1</td>\n",
       "      <td>0.172831</td>\n",
       "    </tr>\n",
       "    <tr>\n",
       "      <th>20</th>\n",
       "      <td>11</td>\n",
       "      <td>0</td>\n",
       "      <td>0.155898</td>\n",
       "    </tr>\n",
       "    <tr>\n",
       "      <th>21</th>\n",
       "      <td>11</td>\n",
       "      <td>1</td>\n",
       "      <td>0.165903</td>\n",
       "    </tr>\n",
       "    <tr>\n",
       "      <th>22</th>\n",
       "      <td>12</td>\n",
       "      <td>0</td>\n",
       "      <td>0.216429</td>\n",
       "    </tr>\n",
       "    <tr>\n",
       "      <th>23</th>\n",
       "      <td>12</td>\n",
       "      <td>1</td>\n",
       "      <td>0.230745</td>\n",
       "    </tr>\n",
       "  </tbody>\n",
       "</table>\n",
       "</div>"
      ],
      "text/plain": [
       "    month  busy  arr_del_rate\n",
       "0       1     0      0.200078\n",
       "1       1     1      0.208289\n",
       "2       2     0      0.195451\n",
       "3       2     1      0.205879\n",
       "4       3     0      0.178464\n",
       "5       3     1      0.197430\n",
       "6       4     0      0.169908\n",
       "7       4     1      0.192847\n",
       "8       5     0      0.181763\n",
       "9       5     1      0.205037\n",
       "10      6     0      0.230366\n",
       "11      6     1      0.246364\n",
       "12      7     0      0.224769\n",
       "13      7     1      0.242014\n",
       "14      8     0      0.204029\n",
       "15      8     1      0.220610\n",
       "16      9     0      0.147105\n",
       "17      9     1      0.166716\n",
       "18     10     0      0.154629\n",
       "19     10     1      0.172831\n",
       "20     11     0      0.155898\n",
       "21     11     1      0.165903\n",
       "22     12     0      0.216429\n",
       "23     12     1      0.230745"
      ]
     },
     "execution_count": 31,
     "metadata": {},
     "output_type": "execute_result"
    }
   ],
   "source": [
    "busy_month"
   ]
  },
  {
   "cell_type": "code",
   "execution_count": 32,
   "id": "bedbe730",
   "metadata": {},
   "outputs": [
    {
     "data": {
      "text/plain": [
       "0.016314490741123348"
      ]
     },
     "execution_count": 32,
     "metadata": {},
     "output_type": "execute_result"
    }
   ],
   "source": [
    "(busy_month[busy_month['busy']==1].reset_index()-busy_month[busy_month['busy']==0].reset_index())['arr_del_rate'].mean()"
   ]
  },
  {
   "cell_type": "markdown",
   "id": "d38907c4",
   "metadata": {},
   "source": [
    "### 2.6: By Carriers (General)"
   ]
  },
  {
   "cell_type": "code",
   "execution_count": 33,
   "id": "73d3e5af",
   "metadata": {},
   "outputs": [
    {
     "name": "stdout",
     "output_type": "stream",
     "text": [
      "              On Time  Aircraft Arriving Late  National Aviation System Delay  \\\n",
      "delay_status   79.54%                   6.94%                           5.76%   \n",
      "\n",
      "              Air Carrier Delay  Cancelled  Weather Delay  Diverted  \\\n",
      "delay_status              5.33%      1.58%          0.57%     0.24%   \n",
      "\n",
      "              Security Delay  \n",
      "delay_status           0.03%  \n"
     ]
    }
   ],
   "source": [
    "del_status = pd.DataFrame(data[['arr_on_time', 'late_aircraft_ct', 'nas_ct', 'carrier_ct', 'arr_cancelled', 'weather_ct', 'arr_diverted', 'security_ct']].sum()/data['arr_flights'].sum(), columns = ['delay_status']).transpose()\n",
    "del_status.set_axis(['On Time', 'Aircraft Arriving Late', 'National Aviation System Delay', 'Air Carrier Delay', 'Cancelled', 'Weather Delay', 'Diverted', 'Security Delay'], axis = 1, inplace = True)\n",
    "with pd.option_context('display.float_format', '{:,.2%}'.format): \n",
    "    print(del_status)"
   ]
  },
  {
   "cell_type": "code",
   "execution_count": 34,
   "id": "beaea344",
   "metadata": {},
   "outputs": [
    {
     "name": "stdout",
     "output_type": "stream",
     "text": [
      "carrier              9E     AA     AS     B6     DL     EV     F9     FL  \\\n",
      "carrier_del_rate 17.38% 19.70% 14.52% 23.77% 13.86% 21.31% 24.61% 15.67%   \n",
      "\n",
      "carrier              G4    HA     MQ     NK     OH     OO     UA     US  \\\n",
      "carrier_del_rate 21.22% 9.32% 20.93% 21.02% 19.71% 18.03% 19.61% 16.33%   \n",
      "\n",
      "carrier              VX     WN     YV     YX  \n",
      "carrier_del_rate 20.45% 19.47% 18.87% 18.38%  \n"
     ]
    }
   ],
   "source": [
    "df7 = data[['carrier', 'arr_flights']].groupby('carrier').sum()\n",
    "df8 = data[['carrier', 'arr_del15']].groupby('carrier').sum()\n",
    "flight_total = df7.merge(df8, left_index = True, right_index = True)\n",
    "carrier_del = pd.DataFrame(flight_total['arr_del15']/flight_total['arr_flights'], columns = ['carrier_del_rate']).transpose()\n",
    "with pd.option_context('display.float_format', '{:,.2%}'.format): \n",
    "    print(carrier_del)"
   ]
  },
  {
   "cell_type": "code",
   "execution_count": 35,
   "id": "620935d1",
   "metadata": {},
   "outputs": [
    {
     "data": {
      "text/plain": [
       "Text(0, 0.5, 'Carrier')"
      ]
     },
     "execution_count": 35,
     "metadata": {},
     "output_type": "execute_result"
    },
    {
     "data": {
      "image/png": "[encoded data removed]",
      "text/plain": [
       "<Figure size 698.4x432 with 1 Axes>"
      ]
     },
     "metadata": {},
     "output_type": "display_data"
    }
   ],
   "source": [
    "fig, ax = plt.subplots(figsize = (9.7, 6))\n",
    "#fig, ax = plt.subplots(figsize = (4.85, 5))\n",
    "sns.barplot(data = carrier_del, orient = 'h', palette = 'Set2')\n",
    "ax.set_title('January 2012 - December 2019')\n",
    "ax.set_xlabel('Delay Rate')\n",
    "ax.set_ylabel('Carrier')"
   ]
  },
  {
   "cell_type": "markdown",
   "id": "e10692de",
   "metadata": {},
   "source": [
    "### 2.7: By National Carriers and Major Carriers"
   ]
  },
  {
   "cell_type": "code",
   "execution_count": 36,
   "id": "1b5bfbe4",
   "metadata": {},
   "outputs": [
    {
     "data": {
      "text/plain": [
       "<matplotlib.legend.Legend at 0x20432e7cf40>"
      ]
     },
     "execution_count": 36,
     "metadata": {},
     "output_type": "execute_result"
    },
    {
     "data": {
      "image/png": "[encoded data removed]",
      "text/plain": [
       "<Figure size 698.4x432 with 1 Axes>"
      ]
     },
     "metadata": {},
     "output_type": "display_data"
    }
   ],
   "source": [
    "group_year = data[['year', 'arr_del_rate', 'carrier_group']].groupby(['year', 'carrier_group']).mean().reset_index()\n",
    "\n",
    "fig, ax = plt.subplots(figsize = (9.7, 6))\n",
    "#fig, ax = plt.subplots(figsize = (4.85, 3))\n",
    "sns.lineplot(x = 'year', y = 'arr_del_rate', hue = 'carrier_group', data = group_year, palette = 'Pastel1')\n",
    "ax.set_xlabel('Year')\n",
    "ax.set_ylabel('Delay Rate')\n",
    "ax.legend(labels = ['National Carriers', 'Major Carriers'])"
   ]
  },
  {
   "cell_type": "code",
   "execution_count": 37,
   "id": "ec50b2bc",
   "metadata": {},
   "outputs": [
    {
     "data": {
      "text/html": [
       "<div>\n",
       "<style scoped>\n",
       "    .dataframe tbody tr th:only-of-type {\n",
       "        vertical-align: middle;\n",
       "    }\n",
       "\n",
       "    .dataframe tbody tr th {\n",
       "        vertical-align: top;\n",
       "    }\n",
       "\n",
       "    .dataframe thead th {\n",
       "        text-align: right;\n",
       "    }\n",
       "</style>\n",
       "<table border=\"1\" class=\"dataframe\">\n",
       "  <thead>\n",
       "    <tr style=\"text-align: right;\">\n",
       "      <th></th>\n",
       "      <th>year</th>\n",
       "      <th>carrier_group</th>\n",
       "      <th>arr_del_rate</th>\n",
       "    </tr>\n",
       "  </thead>\n",
       "  <tbody>\n",
       "    <tr>\n",
       "      <th>0</th>\n",
       "      <td>2012</td>\n",
       "      <td>2</td>\n",
       "      <td>0.182294</td>\n",
       "    </tr>\n",
       "    <tr>\n",
       "      <th>1</th>\n",
       "      <td>2012</td>\n",
       "      <td>3</td>\n",
       "      <td>0.169705</td>\n",
       "    </tr>\n",
       "    <tr>\n",
       "      <th>2</th>\n",
       "      <td>2013</td>\n",
       "      <td>2</td>\n",
       "      <td>0.219421</td>\n",
       "    </tr>\n",
       "    <tr>\n",
       "      <th>3</th>\n",
       "      <td>2013</td>\n",
       "      <td>3</td>\n",
       "      <td>0.202033</td>\n",
       "    </tr>\n",
       "    <tr>\n",
       "      <th>4</th>\n",
       "      <td>2014</td>\n",
       "      <td>2</td>\n",
       "      <td>0.235963</td>\n",
       "    </tr>\n",
       "    <tr>\n",
       "      <th>5</th>\n",
       "      <td>2014</td>\n",
       "      <td>3</td>\n",
       "      <td>0.215089</td>\n",
       "    </tr>\n",
       "    <tr>\n",
       "      <th>6</th>\n",
       "      <td>2015</td>\n",
       "      <td>2</td>\n",
       "      <td>0.212500</td>\n",
       "    </tr>\n",
       "    <tr>\n",
       "      <th>7</th>\n",
       "      <td>2015</td>\n",
       "      <td>3</td>\n",
       "      <td>0.183549</td>\n",
       "    </tr>\n",
       "    <tr>\n",
       "      <th>8</th>\n",
       "      <td>2016</td>\n",
       "      <td>2</td>\n",
       "      <td>0.193655</td>\n",
       "    </tr>\n",
       "    <tr>\n",
       "      <th>9</th>\n",
       "      <td>2016</td>\n",
       "      <td>3</td>\n",
       "      <td>0.161201</td>\n",
       "    </tr>\n",
       "    <tr>\n",
       "      <th>10</th>\n",
       "      <td>2017</td>\n",
       "      <td>2</td>\n",
       "      <td>0.198884</td>\n",
       "    </tr>\n",
       "    <tr>\n",
       "      <th>11</th>\n",
       "      <td>2017</td>\n",
       "      <td>3</td>\n",
       "      <td>0.175427</td>\n",
       "    </tr>\n",
       "    <tr>\n",
       "      <th>12</th>\n",
       "      <td>2018</td>\n",
       "      <td>2</td>\n",
       "      <td>0.201553</td>\n",
       "    </tr>\n",
       "    <tr>\n",
       "      <th>13</th>\n",
       "      <td>2018</td>\n",
       "      <td>3</td>\n",
       "      <td>0.186984</td>\n",
       "    </tr>\n",
       "    <tr>\n",
       "      <th>14</th>\n",
       "      <td>2019</td>\n",
       "      <td>2</td>\n",
       "      <td>0.200272</td>\n",
       "    </tr>\n",
       "    <tr>\n",
       "      <th>15</th>\n",
       "      <td>2019</td>\n",
       "      <td>3</td>\n",
       "      <td>0.189838</td>\n",
       "    </tr>\n",
       "  </tbody>\n",
       "</table>\n",
       "</div>"
      ],
      "text/plain": [
       "    year  carrier_group  arr_del_rate\n",
       "0   2012              2      0.182294\n",
       "1   2012              3      0.169705\n",
       "2   2013              2      0.219421\n",
       "3   2013              3      0.202033\n",
       "4   2014              2      0.235963\n",
       "5   2014              3      0.215089\n",
       "6   2015              2      0.212500\n",
       "7   2015              3      0.183549\n",
       "8   2016              2      0.193655\n",
       "9   2016              3      0.161201\n",
       "10  2017              2      0.198884\n",
       "11  2017              3      0.175427\n",
       "12  2018              2      0.201553\n",
       "13  2018              3      0.186984\n",
       "14  2019              2      0.200272\n",
       "15  2019              3      0.189838"
      ]
     },
     "execution_count": 37,
     "metadata": {},
     "output_type": "execute_result"
    }
   ],
   "source": [
    "group_year"
   ]
  },
  {
   "cell_type": "code",
   "execution_count": 38,
   "id": "d96aa701",
   "metadata": {},
   "outputs": [
    {
     "data": {
      "text/plain": [
       "<matplotlib.legend.Legend at 0x20433076550>"
      ]
     },
     "execution_count": 38,
     "metadata": {},
     "output_type": "execute_result"
    },
    {
     "data": {
      "image/png": "[encoded data removed]",
      "text/plain": [
       "<Figure size 698.4x432 with 1 Axes>"
      ]
     },
     "metadata": {},
     "output_type": "display_data"
    }
   ],
   "source": [
    "group_month = data[['month', 'arr_del_rate', 'carrier_group']].groupby(['month', 'carrier_group']).mean().reset_index()\n",
    "\n",
    "fig, ax = plt.subplots(figsize = (9.7, 6))\n",
    "#fig, ax = plt.subplots(figsize = (4.85, 3))\n",
    "sns.lineplot(x = 'month', y = 'arr_del_rate', hue = 'carrier_group', data = group_month, palette = 'Pastel1')\n",
    "ax.set_title('January 2012 - December 2019')\n",
    "ax.set_xlabel('Month')\n",
    "ax.set_ylabel('Delay Rate')\n",
    "ax.legend(labels = ['National Carriers', 'Major Carriers'])"
   ]
  },
  {
   "cell_type": "code",
   "execution_count": 39,
   "id": "bdab5d08",
   "metadata": {},
   "outputs": [
    {
     "data": {
      "text/html": [
       "<div>\n",
       "<style scoped>\n",
       "    .dataframe tbody tr th:only-of-type {\n",
       "        vertical-align: middle;\n",
       "    }\n",
       "\n",
       "    .dataframe tbody tr th {\n",
       "        vertical-align: top;\n",
       "    }\n",
       "\n",
       "    .dataframe thead th {\n",
       "        text-align: right;\n",
       "    }\n",
       "</style>\n",
       "<table border=\"1\" class=\"dataframe\">\n",
       "  <thead>\n",
       "    <tr style=\"text-align: right;\">\n",
       "      <th></th>\n",
       "      <th>month</th>\n",
       "      <th>carrier_group</th>\n",
       "      <th>arr_del_rate</th>\n",
       "    </tr>\n",
       "  </thead>\n",
       "  <tbody>\n",
       "    <tr>\n",
       "      <th>0</th>\n",
       "      <td>1</td>\n",
       "      <td>2</td>\n",
       "      <td>0.213672</td>\n",
       "    </tr>\n",
       "    <tr>\n",
       "      <th>1</th>\n",
       "      <td>1</td>\n",
       "      <td>3</td>\n",
       "      <td>0.196211</td>\n",
       "    </tr>\n",
       "    <tr>\n",
       "      <th>2</th>\n",
       "      <td>2</td>\n",
       "      <td>2</td>\n",
       "      <td>0.214372</td>\n",
       "    </tr>\n",
       "    <tr>\n",
       "      <th>3</th>\n",
       "      <td>2</td>\n",
       "      <td>3</td>\n",
       "      <td>0.189993</td>\n",
       "    </tr>\n",
       "    <tr>\n",
       "      <th>4</th>\n",
       "      <td>3</td>\n",
       "      <td>2</td>\n",
       "      <td>0.193164</td>\n",
       "    </tr>\n",
       "    <tr>\n",
       "      <th>5</th>\n",
       "      <td>3</td>\n",
       "      <td>3</td>\n",
       "      <td>0.178105</td>\n",
       "    </tr>\n",
       "    <tr>\n",
       "      <th>6</th>\n",
       "      <td>4</td>\n",
       "      <td>2</td>\n",
       "      <td>0.188842</td>\n",
       "    </tr>\n",
       "    <tr>\n",
       "      <th>7</th>\n",
       "      <td>4</td>\n",
       "      <td>3</td>\n",
       "      <td>0.168894</td>\n",
       "    </tr>\n",
       "    <tr>\n",
       "      <th>8</th>\n",
       "      <td>5</td>\n",
       "      <td>2</td>\n",
       "      <td>0.199203</td>\n",
       "    </tr>\n",
       "    <tr>\n",
       "      <th>9</th>\n",
       "      <td>5</td>\n",
       "      <td>3</td>\n",
       "      <td>0.181644</td>\n",
       "    </tr>\n",
       "    <tr>\n",
       "      <th>10</th>\n",
       "      <td>6</td>\n",
       "      <td>2</td>\n",
       "      <td>0.246944</td>\n",
       "    </tr>\n",
       "    <tr>\n",
       "      <th>11</th>\n",
       "      <td>6</td>\n",
       "      <td>3</td>\n",
       "      <td>0.227861</td>\n",
       "    </tr>\n",
       "    <tr>\n",
       "      <th>12</th>\n",
       "      <td>7</td>\n",
       "      <td>2</td>\n",
       "      <td>0.239716</td>\n",
       "    </tr>\n",
       "    <tr>\n",
       "      <th>13</th>\n",
       "      <td>7</td>\n",
       "      <td>3</td>\n",
       "      <td>0.223551</td>\n",
       "    </tr>\n",
       "    <tr>\n",
       "      <th>14</th>\n",
       "      <td>8</td>\n",
       "      <td>2</td>\n",
       "      <td>0.218911</td>\n",
       "    </tr>\n",
       "    <tr>\n",
       "      <th>15</th>\n",
       "      <td>8</td>\n",
       "      <td>3</td>\n",
       "      <td>0.202487</td>\n",
       "    </tr>\n",
       "    <tr>\n",
       "      <th>16</th>\n",
       "      <td>9</td>\n",
       "      <td>2</td>\n",
       "      <td>0.163264</td>\n",
       "    </tr>\n",
       "    <tr>\n",
       "      <th>17</th>\n",
       "      <td>9</td>\n",
       "      <td>3</td>\n",
       "      <td>0.146188</td>\n",
       "    </tr>\n",
       "    <tr>\n",
       "      <th>18</th>\n",
       "      <td>10</td>\n",
       "      <td>2</td>\n",
       "      <td>0.175000</td>\n",
       "    </tr>\n",
       "    <tr>\n",
       "      <th>19</th>\n",
       "      <td>10</td>\n",
       "      <td>3</td>\n",
       "      <td>0.151121</td>\n",
       "    </tr>\n",
       "    <tr>\n",
       "      <th>20</th>\n",
       "      <td>11</td>\n",
       "      <td>2</td>\n",
       "      <td>0.172395</td>\n",
       "    </tr>\n",
       "    <tr>\n",
       "      <th>21</th>\n",
       "      <td>11</td>\n",
       "      <td>3</td>\n",
       "      <td>0.151280</td>\n",
       "    </tr>\n",
       "    <tr>\n",
       "      <th>22</th>\n",
       "      <td>12</td>\n",
       "      <td>2</td>\n",
       "      <td>0.227995</td>\n",
       "    </tr>\n",
       "    <tr>\n",
       "      <th>23</th>\n",
       "      <td>12</td>\n",
       "      <td>3</td>\n",
       "      <td>0.215760</td>\n",
       "    </tr>\n",
       "  </tbody>\n",
       "</table>\n",
       "</div>"
      ],
      "text/plain": [
       "    month  carrier_group  arr_del_rate\n",
       "0       1              2      0.213672\n",
       "1       1              3      0.196211\n",
       "2       2              2      0.214372\n",
       "3       2              3      0.189993\n",
       "4       3              2      0.193164\n",
       "5       3              3      0.178105\n",
       "6       4              2      0.188842\n",
       "7       4              3      0.168894\n",
       "8       5              2      0.199203\n",
       "9       5              3      0.181644\n",
       "10      6              2      0.246944\n",
       "11      6              3      0.227861\n",
       "12      7              2      0.239716\n",
       "13      7              3      0.223551\n",
       "14      8              2      0.218911\n",
       "15      8              3      0.202487\n",
       "16      9              2      0.163264\n",
       "17      9              3      0.146188\n",
       "18     10              2      0.175000\n",
       "19     10              3      0.151121\n",
       "20     11              2      0.172395\n",
       "21     11              3      0.151280\n",
       "22     12              2      0.227995\n",
       "23     12              3      0.215760"
      ]
     },
     "execution_count": 39,
     "metadata": {},
     "output_type": "execute_result"
    }
   ],
   "source": [
    "group_month"
   ]
  },
  {
   "cell_type": "code",
   "execution_count": 40,
   "id": "31443192",
   "metadata": {},
   "outputs": [
    {
     "data": {
      "text/plain": [
       "0.018365302126379327"
      ]
     },
     "execution_count": 40,
     "metadata": {},
     "output_type": "execute_result"
    }
   ],
   "source": [
    "(group_month[group_month['carrier_group'] == 2].reset_index() - group_month[group_month['carrier_group'] == 3].reset_index())['arr_del_rate'].mean()"
   ]
  },
  {
   "cell_type": "markdown",
   "id": "4d97f20f",
   "metadata": {},
   "source": [
    "### 2.8: By Marketing Carriers and Regular Carriers"
   ]
  },
  {
   "cell_type": "code",
   "execution_count": 41,
   "id": "489b6434",
   "metadata": {},
   "outputs": [
    {
     "data": {
      "text/plain": [
       "<matplotlib.legend.Legend at 0x20432f6ff40>"
      ]
     },
     "execution_count": 41,
     "metadata": {},
     "output_type": "execute_result"
    },
    {
     "data": {
      "image/png": "[encoded data removed]",
      "text/plain": [
       "<Figure size 698.4x432 with 1 Axes>"
      ]
     },
     "metadata": {},
     "output_type": "display_data"
    }
   ],
   "source": [
    "market_year = data[['year', 'arr_del_rate', 'marketing']].groupby(['year', 'marketing']).mean().reset_index()\n",
    "\n",
    "fig, ax = plt.subplots(figsize = (9.7, 6))\n",
    "#fig, ax = plt.subplots(figsize = (4.85, 3))\n",
    "sns.lineplot(x = 'year', y = 'arr_del_rate', hue = 'marketing', data = market_year)\n",
    "ax.set_xlabel('Year')\n",
    "ax.set_ylabel('Delay Rate')\n",
    "ax.legend(labels = ['Regular Carriers', 'Marketing Carriers'])"
   ]
  },
  {
   "cell_type": "code",
   "execution_count": 42,
   "id": "833a05f6",
   "metadata": {},
   "outputs": [
    {
     "data": {
      "text/html": [
       "<div>\n",
       "<style scoped>\n",
       "    .dataframe tbody tr th:only-of-type {\n",
       "        vertical-align: middle;\n",
       "    }\n",
       "\n",
       "    .dataframe tbody tr th {\n",
       "        vertical-align: top;\n",
       "    }\n",
       "\n",
       "    .dataframe thead th {\n",
       "        text-align: right;\n",
       "    }\n",
       "</style>\n",
       "<table border=\"1\" class=\"dataframe\">\n",
       "  <thead>\n",
       "    <tr style=\"text-align: right;\">\n",
       "      <th></th>\n",
       "      <th>year</th>\n",
       "      <th>marketing</th>\n",
       "      <th>arr_del_rate</th>\n",
       "    </tr>\n",
       "  </thead>\n",
       "  <tbody>\n",
       "    <tr>\n",
       "      <th>0</th>\n",
       "      <td>2012</td>\n",
       "      <td>0</td>\n",
       "      <td>0.164463</td>\n",
       "    </tr>\n",
       "    <tr>\n",
       "      <th>1</th>\n",
       "      <td>2012</td>\n",
       "      <td>1</td>\n",
       "      <td>0.184029</td>\n",
       "    </tr>\n",
       "    <tr>\n",
       "      <th>2</th>\n",
       "      <td>2013</td>\n",
       "      <td>0</td>\n",
       "      <td>0.210925</td>\n",
       "    </tr>\n",
       "    <tr>\n",
       "      <th>3</th>\n",
       "      <td>2013</td>\n",
       "      <td>1</td>\n",
       "      <td>0.204672</td>\n",
       "    </tr>\n",
       "    <tr>\n",
       "      <th>4</th>\n",
       "      <td>2014</td>\n",
       "      <td>0</td>\n",
       "      <td>0.227650</td>\n",
       "    </tr>\n",
       "    <tr>\n",
       "      <th>5</th>\n",
       "      <td>2014</td>\n",
       "      <td>1</td>\n",
       "      <td>0.213076</td>\n",
       "    </tr>\n",
       "    <tr>\n",
       "      <th>6</th>\n",
       "      <td>2015</td>\n",
       "      <td>0</td>\n",
       "      <td>0.192865</td>\n",
       "    </tr>\n",
       "    <tr>\n",
       "      <th>7</th>\n",
       "      <td>2015</td>\n",
       "      <td>1</td>\n",
       "      <td>0.188493</td>\n",
       "    </tr>\n",
       "    <tr>\n",
       "      <th>8</th>\n",
       "      <td>2016</td>\n",
       "      <td>0</td>\n",
       "      <td>0.163649</td>\n",
       "    </tr>\n",
       "    <tr>\n",
       "      <th>9</th>\n",
       "      <td>2016</td>\n",
       "      <td>1</td>\n",
       "      <td>0.172941</td>\n",
       "    </tr>\n",
       "    <tr>\n",
       "      <th>10</th>\n",
       "      <td>2017</td>\n",
       "      <td>0</td>\n",
       "      <td>0.183150</td>\n",
       "    </tr>\n",
       "    <tr>\n",
       "      <th>11</th>\n",
       "      <td>2017</td>\n",
       "      <td>1</td>\n",
       "      <td>0.180317</td>\n",
       "    </tr>\n",
       "    <tr>\n",
       "      <th>12</th>\n",
       "      <td>2018</td>\n",
       "      <td>0</td>\n",
       "      <td>0.191219</td>\n",
       "    </tr>\n",
       "    <tr>\n",
       "      <th>13</th>\n",
       "      <td>2018</td>\n",
       "      <td>1</td>\n",
       "      <td>0.195598</td>\n",
       "    </tr>\n",
       "    <tr>\n",
       "      <th>14</th>\n",
       "      <td>2019</td>\n",
       "      <td>0</td>\n",
       "      <td>0.196054</td>\n",
       "    </tr>\n",
       "    <tr>\n",
       "      <th>15</th>\n",
       "      <td>2019</td>\n",
       "      <td>1</td>\n",
       "      <td>0.192656</td>\n",
       "    </tr>\n",
       "  </tbody>\n",
       "</table>\n",
       "</div>"
      ],
      "text/plain": [
       "    year  marketing  arr_del_rate\n",
       "0   2012          0      0.164463\n",
       "1   2012          1      0.184029\n",
       "2   2013          0      0.210925\n",
       "3   2013          1      0.204672\n",
       "4   2014          0      0.227650\n",
       "5   2014          1      0.213076\n",
       "6   2015          0      0.192865\n",
       "7   2015          1      0.188493\n",
       "8   2016          0      0.163649\n",
       "9   2016          1      0.172941\n",
       "10  2017          0      0.183150\n",
       "11  2017          1      0.180317\n",
       "12  2018          0      0.191219\n",
       "13  2018          1      0.195598\n",
       "14  2019          0      0.196054\n",
       "15  2019          1      0.192656"
      ]
     },
     "execution_count": 42,
     "metadata": {},
     "output_type": "execute_result"
    }
   ],
   "source": [
    "market_year"
   ]
  },
  {
   "cell_type": "code",
   "execution_count": 43,
   "id": "efc987c4",
   "metadata": {},
   "outputs": [
    {
     "data": {
      "text/plain": [
       "<matplotlib.legend.Legend at 0x20432fee130>"
      ]
     },
     "execution_count": 43,
     "metadata": {},
     "output_type": "execute_result"
    },
    {
     "data": {
      "image/png": "[encoded data removed]",
      "text/plain": [
       "<Figure size 698.4x432 with 1 Axes>"
      ]
     },
     "metadata": {},
     "output_type": "display_data"
    }
   ],
   "source": [
    "market_month = data[['month', 'arr_del_rate', 'marketing']].groupby(['month', 'marketing']).mean().reset_index()\n",
    "\n",
    "fig, ax = plt.subplots(figsize = (9.7, 6))\n",
    "#fig, ax = plt.subplots(figsize = (4.85, 3))\n",
    "sns.lineplot(x = 'month', y = 'arr_del_rate', hue = 'marketing', data = market_month)\n",
    "ax.set_title('January 2012 - December 2019')\n",
    "ax.set_xlabel('Month')\n",
    "ax.set_ylabel('Delay Rate')\n",
    "ax.legend(labels = ['Regular Carriers', 'Marketing Carriers'])"
   ]
  },
  {
   "cell_type": "code",
   "execution_count": 44,
   "id": "d0f13853",
   "metadata": {},
   "outputs": [
    {
     "data": {
      "text/html": [
       "<div>\n",
       "<style scoped>\n",
       "    .dataframe tbody tr th:only-of-type {\n",
       "        vertical-align: middle;\n",
       "    }\n",
       "\n",
       "    .dataframe tbody tr th {\n",
       "        vertical-align: top;\n",
       "    }\n",
       "\n",
       "    .dataframe thead th {\n",
       "        text-align: right;\n",
       "    }\n",
       "</style>\n",
       "<table border=\"1\" class=\"dataframe\">\n",
       "  <thead>\n",
       "    <tr style=\"text-align: right;\">\n",
       "      <th></th>\n",
       "      <th>month</th>\n",
       "      <th>marketing</th>\n",
       "      <th>arr_del_rate</th>\n",
       "    </tr>\n",
       "  </thead>\n",
       "  <tbody>\n",
       "    <tr>\n",
       "      <th>0</th>\n",
       "      <td>1</td>\n",
       "      <td>0</td>\n",
       "      <td>0.214619</td>\n",
       "    </tr>\n",
       "    <tr>\n",
       "      <th>1</th>\n",
       "      <td>1</td>\n",
       "      <td>1</td>\n",
       "      <td>0.190368</td>\n",
       "    </tr>\n",
       "    <tr>\n",
       "      <th>2</th>\n",
       "      <td>2</td>\n",
       "      <td>0</td>\n",
       "      <td>0.209314</td>\n",
       "    </tr>\n",
       "    <tr>\n",
       "      <th>3</th>\n",
       "      <td>2</td>\n",
       "      <td>1</td>\n",
       "      <td>0.187543</td>\n",
       "    </tr>\n",
       "    <tr>\n",
       "      <th>4</th>\n",
       "      <td>3</td>\n",
       "      <td>0</td>\n",
       "      <td>0.182305</td>\n",
       "    </tr>\n",
       "    <tr>\n",
       "      <th>5</th>\n",
       "      <td>3</td>\n",
       "      <td>1</td>\n",
       "      <td>0.183834</td>\n",
       "    </tr>\n",
       "    <tr>\n",
       "      <th>6</th>\n",
       "      <td>4</td>\n",
       "      <td>0</td>\n",
       "      <td>0.173966</td>\n",
       "    </tr>\n",
       "    <tr>\n",
       "      <th>7</th>\n",
       "      <td>4</td>\n",
       "      <td>1</td>\n",
       "      <td>0.176809</td>\n",
       "    </tr>\n",
       "    <tr>\n",
       "      <th>8</th>\n",
       "      <td>5</td>\n",
       "      <td>0</td>\n",
       "      <td>0.179952</td>\n",
       "    </tr>\n",
       "    <tr>\n",
       "      <th>9</th>\n",
       "      <td>5</td>\n",
       "      <td>1</td>\n",
       "      <td>0.194106</td>\n",
       "    </tr>\n",
       "    <tr>\n",
       "      <th>10</th>\n",
       "      <td>6</td>\n",
       "      <td>0</td>\n",
       "      <td>0.226667</td>\n",
       "    </tr>\n",
       "    <tr>\n",
       "      <th>11</th>\n",
       "      <td>6</td>\n",
       "      <td>1</td>\n",
       "      <td>0.241001</td>\n",
       "    </tr>\n",
       "    <tr>\n",
       "      <th>12</th>\n",
       "      <td>7</td>\n",
       "      <td>0</td>\n",
       "      <td>0.219413</td>\n",
       "    </tr>\n",
       "    <tr>\n",
       "      <th>13</th>\n",
       "      <td>7</td>\n",
       "      <td>1</td>\n",
       "      <td>0.237256</td>\n",
       "    </tr>\n",
       "    <tr>\n",
       "      <th>14</th>\n",
       "      <td>8</td>\n",
       "      <td>0</td>\n",
       "      <td>0.202606</td>\n",
       "    </tr>\n",
       "    <tr>\n",
       "      <th>15</th>\n",
       "      <td>8</td>\n",
       "      <td>1</td>\n",
       "      <td>0.212722</td>\n",
       "    </tr>\n",
       "    <tr>\n",
       "      <th>16</th>\n",
       "      <td>9</td>\n",
       "      <td>0</td>\n",
       "      <td>0.151681</td>\n",
       "    </tr>\n",
       "    <tr>\n",
       "      <th>17</th>\n",
       "      <td>9</td>\n",
       "      <td>1</td>\n",
       "      <td>0.151840</td>\n",
       "    </tr>\n",
       "    <tr>\n",
       "      <th>18</th>\n",
       "      <td>10</td>\n",
       "      <td>0</td>\n",
       "      <td>0.165109</td>\n",
       "    </tr>\n",
       "    <tr>\n",
       "      <th>19</th>\n",
       "      <td>10</td>\n",
       "      <td>1</td>\n",
       "      <td>0.153582</td>\n",
       "    </tr>\n",
       "    <tr>\n",
       "      <th>20</th>\n",
       "      <td>11</td>\n",
       "      <td>0</td>\n",
       "      <td>0.164077</td>\n",
       "    </tr>\n",
       "    <tr>\n",
       "      <th>21</th>\n",
       "      <td>11</td>\n",
       "      <td>1</td>\n",
       "      <td>0.153098</td>\n",
       "    </tr>\n",
       "    <tr>\n",
       "      <th>22</th>\n",
       "      <td>12</td>\n",
       "      <td>0</td>\n",
       "      <td>0.228195</td>\n",
       "    </tr>\n",
       "    <tr>\n",
       "      <th>23</th>\n",
       "      <td>12</td>\n",
       "      <td>1</td>\n",
       "      <td>0.212292</td>\n",
       "    </tr>\n",
       "  </tbody>\n",
       "</table>\n",
       "</div>"
      ],
      "text/plain": [
       "    month  marketing  arr_del_rate\n",
       "0       1          0      0.214619\n",
       "1       1          1      0.190368\n",
       "2       2          0      0.209314\n",
       "3       2          1      0.187543\n",
       "4       3          0      0.182305\n",
       "5       3          1      0.183834\n",
       "6       4          0      0.173966\n",
       "7       4          1      0.176809\n",
       "8       5          0      0.179952\n",
       "9       5          1      0.194106\n",
       "10      6          0      0.226667\n",
       "11      6          1      0.241001\n",
       "12      7          0      0.219413\n",
       "13      7          1      0.237256\n",
       "14      8          0      0.202606\n",
       "15      8          1      0.212722\n",
       "16      9          0      0.151681\n",
       "17      9          1      0.151840\n",
       "18     10          0      0.165109\n",
       "19     10          1      0.153582\n",
       "20     11          0      0.164077\n",
       "21     11          1      0.153098\n",
       "22     12          0      0.228195\n",
       "23     12          1      0.212292"
      ]
     },
     "execution_count": 44,
     "metadata": {},
     "output_type": "execute_result"
    }
   ],
   "source": [
    "market_month"
   ]
  },
  {
   "cell_type": "markdown",
   "id": "bb4e3e7a",
   "metadata": {},
   "source": [
    "### 2.9: By Establishment Years"
   ]
  },
  {
   "cell_type": "code",
   "execution_count": 45,
   "id": "012048a5",
   "metadata": {
    "scrolled": true
   },
   "outputs": [
    {
     "data": {
      "text/plain": [
       "Text(0, 0.5, 'Delay Rate')"
      ]
     },
     "execution_count": 45,
     "metadata": {},
     "output_type": "execute_result"
    },
    {
     "data": {
      "image/png": "[encoded data removed]",
      "text/plain": [
       "<Figure size 698.4x432 with 1 Axes>"
      ]
     },
     "metadata": {},
     "output_type": "display_data"
    }
   ],
   "source": [
    "delay_estab = data[['carrier_name', 'arr_del_rate', 'establishment']].groupby(['carrier_name', 'establishment']).mean().reset_index()\n",
    "\n",
    "fig, ax = plt.subplots(figsize = (9.7, 6))\n",
    "#fig, ax = plt.subplots(figsize = (4.85, 3))\n",
    "sns.regplot(x = 'establishment', y = 'arr_del_rate', data = delay_estab)\n",
    "ax.set_title('January 2012 - December 2019')\n",
    "ax.set_xlabel('Years of Establishment')\n",
    "ax.set_ylabel('Delay Rate')"
   ]
  },
  {
   "cell_type": "code",
   "execution_count": 46,
   "id": "5bf9c01b",
   "metadata": {},
   "outputs": [
    {
     "data": {
      "text/html": [
       "<div>\n",
       "<style scoped>\n",
       "    .dataframe tbody tr th:only-of-type {\n",
       "        vertical-align: middle;\n",
       "    }\n",
       "\n",
       "    .dataframe tbody tr th {\n",
       "        vertical-align: top;\n",
       "    }\n",
       "\n",
       "    .dataframe thead th {\n",
       "        text-align: right;\n",
       "    }\n",
       "</style>\n",
       "<table border=\"1\" class=\"dataframe\">\n",
       "  <thead>\n",
       "    <tr style=\"text-align: right;\">\n",
       "      <th></th>\n",
       "      <th>carrier_name</th>\n",
       "      <th>establishment</th>\n",
       "      <th>arr_del_rate</th>\n",
       "    </tr>\n",
       "  </thead>\n",
       "  <tbody>\n",
       "    <tr>\n",
       "      <th>0</th>\n",
       "      <td>AirTran Airways Corporation</td>\n",
       "      <td>20.0</td>\n",
       "      <td>0.154388</td>\n",
       "    </tr>\n",
       "    <tr>\n",
       "      <th>1</th>\n",
       "      <td>Alaska Airlines Inc.</td>\n",
       "      <td>61.0</td>\n",
       "      <td>0.137768</td>\n",
       "    </tr>\n",
       "    <tr>\n",
       "      <th>2</th>\n",
       "      <td>Allegiant Air</td>\n",
       "      <td>21.0</td>\n",
       "      <td>0.181025</td>\n",
       "    </tr>\n",
       "    <tr>\n",
       "      <th>3</th>\n",
       "      <td>American Airlines Inc.</td>\n",
       "      <td>61.0</td>\n",
       "      <td>0.221158</td>\n",
       "    </tr>\n",
       "    <tr>\n",
       "      <th>4</th>\n",
       "      <td>American Eagle Airlines Inc.</td>\n",
       "      <td>30.0</td>\n",
       "      <td>0.217733</td>\n",
       "    </tr>\n",
       "    <tr>\n",
       "      <th>5</th>\n",
       "      <td>Delta Air Lines Inc.</td>\n",
       "      <td>61.0</td>\n",
       "      <td>0.138723</td>\n",
       "    </tr>\n",
       "    <tr>\n",
       "      <th>6</th>\n",
       "      <td>Endeavor Air Inc.</td>\n",
       "      <td>19.0</td>\n",
       "      <td>0.169878</td>\n",
       "    </tr>\n",
       "    <tr>\n",
       "      <th>7</th>\n",
       "      <td>Envoy Air</td>\n",
       "      <td>30.0</td>\n",
       "      <td>0.207737</td>\n",
       "    </tr>\n",
       "    <tr>\n",
       "      <th>8</th>\n",
       "      <td>ExpressJet Airlines Inc.</td>\n",
       "      <td>28.0</td>\n",
       "      <td>0.210743</td>\n",
       "    </tr>\n",
       "    <tr>\n",
       "      <th>9</th>\n",
       "      <td>ExpressJet Airlines LLC</td>\n",
       "      <td>28.0</td>\n",
       "      <td>0.245191</td>\n",
       "    </tr>\n",
       "    <tr>\n",
       "      <th>10</th>\n",
       "      <td>Frontier Airlines Inc.</td>\n",
       "      <td>61.0</td>\n",
       "      <td>0.248519</td>\n",
       "    </tr>\n",
       "    <tr>\n",
       "      <th>11</th>\n",
       "      <td>Hawaiian Airlines Inc.</td>\n",
       "      <td>61.0</td>\n",
       "      <td>0.171126</td>\n",
       "    </tr>\n",
       "    <tr>\n",
       "      <th>12</th>\n",
       "      <td>JetBlue Airways</td>\n",
       "      <td>21.0</td>\n",
       "      <td>0.228693</td>\n",
       "    </tr>\n",
       "    <tr>\n",
       "      <th>13</th>\n",
       "      <td>Mesa Airlines Inc.</td>\n",
       "      <td>26.0</td>\n",
       "      <td>0.191615</td>\n",
       "    </tr>\n",
       "    <tr>\n",
       "      <th>14</th>\n",
       "      <td>PSA Airlines Inc.</td>\n",
       "      <td>21.0</td>\n",
       "      <td>0.214287</td>\n",
       "    </tr>\n",
       "    <tr>\n",
       "      <th>15</th>\n",
       "      <td>Pinnacle Airlines Inc.</td>\n",
       "      <td>19.0</td>\n",
       "      <td>0.209526</td>\n",
       "    </tr>\n",
       "    <tr>\n",
       "      <th>16</th>\n",
       "      <td>Republic Airline</td>\n",
       "      <td>37.0</td>\n",
       "      <td>0.170045</td>\n",
       "    </tr>\n",
       "    <tr>\n",
       "      <th>17</th>\n",
       "      <td>SkyWest Airlines Inc.</td>\n",
       "      <td>18.0</td>\n",
       "      <td>0.180478</td>\n",
       "    </tr>\n",
       "    <tr>\n",
       "      <th>18</th>\n",
       "      <td>Southwest Airlines Co.</td>\n",
       "      <td>42.0</td>\n",
       "      <td>0.207708</td>\n",
       "    </tr>\n",
       "    <tr>\n",
       "      <th>19</th>\n",
       "      <td>Spirit Air Lines</td>\n",
       "      <td>29.0</td>\n",
       "      <td>0.204966</td>\n",
       "    </tr>\n",
       "    <tr>\n",
       "      <th>20</th>\n",
       "      <td>US Airways Inc.</td>\n",
       "      <td>27.0</td>\n",
       "      <td>0.168641</td>\n",
       "    </tr>\n",
       "    <tr>\n",
       "      <th>21</th>\n",
       "      <td>United Air Lines Inc.</td>\n",
       "      <td>61.0</td>\n",
       "      <td>0.204567</td>\n",
       "    </tr>\n",
       "    <tr>\n",
       "      <th>22</th>\n",
       "      <td>Virgin America</td>\n",
       "      <td>26.0</td>\n",
       "      <td>0.182309</td>\n",
       "    </tr>\n",
       "  </tbody>\n",
       "</table>\n",
       "</div>"
      ],
      "text/plain": [
       "                    carrier_name  establishment  arr_del_rate\n",
       "0    AirTran Airways Corporation           20.0      0.154388\n",
       "1           Alaska Airlines Inc.           61.0      0.137768\n",
       "2                  Allegiant Air           21.0      0.181025\n",
       "3         American Airlines Inc.           61.0      0.221158\n",
       "4   American Eagle Airlines Inc.           30.0      0.217733\n",
       "5           Delta Air Lines Inc.           61.0      0.138723\n",
       "6              Endeavor Air Inc.           19.0      0.169878\n",
       "7                      Envoy Air           30.0      0.207737\n",
       "8       ExpressJet Airlines Inc.           28.0      0.210743\n",
       "9        ExpressJet Airlines LLC           28.0      0.245191\n",
       "10        Frontier Airlines Inc.           61.0      0.248519\n",
       "11        Hawaiian Airlines Inc.           61.0      0.171126\n",
       "12               JetBlue Airways           21.0      0.228693\n",
       "13            Mesa Airlines Inc.           26.0      0.191615\n",
       "14             PSA Airlines Inc.           21.0      0.214287\n",
       "15        Pinnacle Airlines Inc.           19.0      0.209526\n",
       "16              Republic Airline           37.0      0.170045\n",
       "17         SkyWest Airlines Inc.           18.0      0.180478\n",
       "18        Southwest Airlines Co.           42.0      0.207708\n",
       "19              Spirit Air Lines           29.0      0.204966\n",
       "20               US Airways Inc.           27.0      0.168641\n",
       "21         United Air Lines Inc.           61.0      0.204567\n",
       "22                Virgin America           26.0      0.182309"
      ]
     },
     "execution_count": 46,
     "metadata": {},
     "output_type": "execute_result"
    }
   ],
   "source": [
    "delay_estab"
   ]
  },
  {
   "cell_type": "markdown",
   "id": "a1defed4",
   "metadata": {},
   "source": [
    "## Section 3: Modeling"
   ]
  },
  {
   "cell_type": "markdown",
   "id": "1b754dbd",
   "metadata": {},
   "source": [
    "### 3.1: Baseline Model"
   ]
  },
  {
   "cell_type": "markdown",
   "id": "abe4c2be",
   "metadata": {},
   "source": [
    "Multiple linear regression for predicting mins of delay. Logistic regression for predicting delay or not."
   ]
  },
  {
   "cell_type": "code",
   "execution_count": 47,
   "id": "025799d7",
   "metadata": {},
   "outputs": [
    {
     "data": {
      "text/plain": [
       "['year',\n",
       " 'month',\n",
       " 'carrier',\n",
       " 'carrier_name',\n",
       " 'airport',\n",
       " 'airport_name',\n",
       " 'arr_flights',\n",
       " 'arr_del15',\n",
       " 'carrier_ct',\n",
       " 'weather_ct',\n",
       " 'nas_ct',\n",
       " 'security_ct',\n",
       " 'late_aircraft_ct',\n",
       " 'arr_cancelled',\n",
       " 'arr_diverted',\n",
       " 'arr_delay',\n",
       " 'carrier_delay',\n",
       " 'weather_delay',\n",
       " 'nas_delay',\n",
       " 'security_delay',\n",
       " 'late_aircraft_delay',\n",
       " 'busy',\n",
       " 'carrier_group',\n",
       " 'marketing',\n",
       " 'start',\n",
       " 'end',\n",
       " 'establishment',\n",
       " 'arr_on_time',\n",
       " 'arr_del_rate']"
      ]
     },
     "execution_count": 47,
     "metadata": {},
     "output_type": "execute_result"
    }
   ],
   "source": [
    "list(data.columns)"
   ]
  },
  {
   "cell_type": "markdown",
   "id": "376343ba",
   "metadata": {},
   "source": [
    "Baseline model features: month, busy, carrier_group. Dependent variable: arr_delay. Next use lasso/ridge regression, random forest, neural network and time-series model."
   ]
  },
  {
   "cell_type": "code",
   "execution_count": 48,
   "id": "5977b588",
   "metadata": {},
   "outputs": [],
   "source": [
    "X_base, y_base = data[['month', 'busy', 'carrier_group']], data['arr_delay']\n",
    "X_base_train, X_base_test, y_base_train, y_base_test = train_test_split(X_base, y_base, test_size = 0.20, random_state = 123)"
   ]
  },
  {
   "cell_type": "code",
   "execution_count": 49,
   "id": "e6556072",
   "metadata": {},
   "outputs": [
    {
     "data": {
      "text/plain": [
       "0.13395013026581737"
      ]
     },
     "execution_count": 49,
     "metadata": {},
     "output_type": "execute_result"
    }
   ],
   "source": [
    "baseline = LinearRegression()\n",
    "baseline.fit(X_base_train, y_base_train)\n",
    "baseline_predict = baseline.predict(X_base_test)\n",
    "1 - (1 - baseline.score(X_base_test, y_base_test))*(len(y_base_test) - 1)/(len(y_base_test) - X_base.shape[1] - 1)"
   ]
  },
  {
   "cell_type": "code",
   "execution_count": 50,
   "id": "01aba412",
   "metadata": {},
   "outputs": [
    {
     "data": {
      "text/plain": [
       "12039.123779468266"
      ]
     },
     "execution_count": 50,
     "metadata": {},
     "output_type": "execute_result"
    }
   ],
   "source": [
    "mean_squared_error(y_base_test, baseline_predict, squared = False)"
   ]
  },
  {
   "cell_type": "code",
   "execution_count": 51,
   "id": "2b7336d2",
   "metadata": {},
   "outputs": [
    {
     "data": {
      "text/plain": [
       "4800.4225550031415"
      ]
     },
     "execution_count": 51,
     "metadata": {},
     "output_type": "execute_result"
    }
   ],
   "source": [
    "mean_absolute_error(y_base_test, baseline_predict)"
   ]
  },
  {
   "cell_type": "markdown",
   "id": "d8089ad8",
   "metadata": {},
   "source": [
    "### 3.2: Feature Selection"
   ]
  },
  {
   "cell_type": "code",
   "execution_count": 52,
   "id": "24c34cd1",
   "metadata": {},
   "outputs": [],
   "source": [
    "dummies_carrier = pd.get_dummies(data['carrier'])\n",
    "dummies_airport = pd.get_dummies(data['airport'])\n",
    "data6 = pd.concat([data, dummies_carrier, dummies_airport], axis = 1)\n",
    "data6 = data6.drop(['arr_delay', 'carrier', 'carrier_name', 'airport', 'airport_name', 'carrier_delay', 'weather_delay', 'nas_delay', 'security_delay', 'late_aircraft_delay'], axis = 1)"
   ]
  },
  {
   "cell_type": "code",
   "execution_count": 53,
   "id": "3bb7ea5f",
   "metadata": {},
   "outputs": [
    {
     "data": {
      "text/plain": [
       "array([      5.96,       4.48,  462492.42, 2130145.31,  552173.94,\n",
       "        232828.08,  714922.88,   32169.91,  753938.4 ,   93580.34,\n",
       "        118528.33,   19776.46,     799.49,     928.71,     334.88,\n",
       "            74.73,     350.88,  310827.52,    1102.11,      96.22,\n",
       "           813.82,     308.04,      65.1 ,       0.68,      22.41,\n",
       "           263.17,      44.09,     220.3 ,      97.88,     160.4 ,\n",
       "             1.07,      21.53,     114.81,     248.16,      22.7 ,\n",
       "            12.21,    2983.48,     156.61,      10.3 ,      29.97,\n",
       "             4.71,      37.41,       9.71,       7.57,       4.68,\n",
       "             7.25,       1.28,       0.33,      12.17,      11.12,\n",
       "            12.49,      20.87,       3.  ,      50.73,       6.84,\n",
       "            21.81,      15.46,       8.65,       3.25,       0.34,\n",
       "          3537.48,      25.47,       0.8 ,       3.51,      28.62,\n",
       "            24.54,       0.62,      18.61,      29.29,      10.36,\n",
       "             2.15,       6.26,       0.91,       5.74,      22.05,\n",
       "            22.58,      38.89,      35.55,       9.86,       8.33,\n",
       "            12.61,       1.75,      32.92,       1.2 ,      27.4 ,\n",
       "           436.35,       8.34,       8.01,      21.11,       8.59,\n",
       "            18.99,      10.06,      10.98,      14.23,      31.05,\n",
       "            27.69,       5.22,      53.38,      42.61,      15.78,\n",
       "            25.39,      10.83,      10.34,       2.06,       1.76,\n",
       "            24.26,      23.72,      46.05,       1.74,      32.01,\n",
       "             7.46,       4.21,       2.2 ,       2.7 ,      14.73,\n",
       "           252.65,      15.31,       1.11,       7.7 ,       3.59,\n",
       "             9.54,      16.45,      10.26,       8.  ,      24.51,\n",
       "            22.52,       9.27,       1.19,      21.13,       1.9 ,\n",
       "            18.12,     179.36,      37.82,       5.06,      36.38,\n",
       "          1344.84,    2650.81,       7.53,       5.4 ,       2.89,\n",
       "             9.46,      22.34,       2.72,      62.8 ,     173.24,\n",
       "             6.18,       1.38,       8.55,      20.61,      17.7 ,\n",
       "            10.77,       8.57,      26.05,       9.78,       7.41,\n",
       "             6.31,      27.86,      10.09,    1238.7 ,      27.33,\n",
       "            16.56,      34.51,       7.72,      21.42,      19.37,\n",
       "            11.37,      97.89,       0.51,       0.13,      39.64,\n",
       "             0.61,      41.7 ,      16.82,      12.41,       8.24,\n",
       "             8.93,      47.  ,      11.64,       9.52,      23.79,\n",
       "            22.99,      25.85,      26.79,      11.72,      10.44,\n",
       "            39.52,      27.41,      32.3 ,       2.86,      12.59,\n",
       "             8.33,      17.99,      10.13,      22.09,       2.84,\n",
       "             1.03,       9.3 ,       8.64,       0.24,       9.57,\n",
       "            41.87,       4.41,      24.96,      30.4 ,       4.82,\n",
       "             2.28,       3.16,       5.24,       6.83,       9.31,\n",
       "           830.47,      46.65,       9.4 ,       1.47,       1.62,\n",
       "            37.02,       9.18,      18.03,       9.44,       1.72,\n",
       "            10.28,       0.  ,       6.24,      20.37,       2.54,\n",
       "            31.33,      20.79,      32.91,     718.76,       9.6 ,\n",
       "             5.25,       6.64,      45.47,       8.66,      17.58,\n",
       "             8.03,     235.46,      11.34,    1155.3 ,      24.47,\n",
       "             3.78,       2.09,       2.1 ,      15.38,       1.65,\n",
       "            27.46,      25.15,     641.65,       6.58,      45.4 ,\n",
       "            36.51,       3.16,      14.32,      16.97,      13.22,\n",
       "             2.21,      11.44,       1.87,      22.  ,       9.39,\n",
       "             7.47,     330.03,      58.71,     274.06,       4.16,\n",
       "            33.33,      30.63,       4.54,      13.51,       8.47,\n",
       "            25.06,     195.  ,      10.06,       8.65,      16.2 ,\n",
       "            24.51,      11.56,       4.7 ,      19.71,       1.52,\n",
       "            19.7 ,      11.06,       5.51,      32.89,      28.46,\n",
       "           181.56,      11.76,      37.2 ,       7.5 ,      32.03,\n",
       "            11.48,       0.64,       2.98,      23.84,       3.02,\n",
       "            28.81,      43.94,      10.49,      19.05,    5723.99,\n",
       "            39.18,       6.32,       8.72,      10.72,       2.84,\n",
       "             0.56,       7.93,      10.  ,       8.95,       3.87,\n",
       "             0.6 ,       0.65,      21.17,      59.29,     256.01,\n",
       "            23.07,       4.45,       5.19,      10.34,       0.6 ,\n",
       "            23.35,       6.73,      38.35,      10.11,       1.55,\n",
       "             9.92,       7.16,       9.75,       3.69,      35.78,\n",
       "             3.26,      37.66,       2.4 ,      51.33,      30.68,\n",
       "             5.4 ,       2.48,       5.79,       4.44,       7.78,\n",
       "            34.05,       8.41,      32.25,      27.  ,      56.84,\n",
       "            13.59,      18.96,      17.04,      17.55,       5.27,\n",
       "            12.55,      33.86,       6.95,      10.52,       2.  ,\n",
       "            10.42,       9.9 ,       2.6 ,      31.27,      97.95,\n",
       "            23.15,    2307.84,      16.3 ,       6.69,       1.72,\n",
       "            15.02,      11.5 ,       7.13,       9.58,       1.45,\n",
       "            44.74,       1.01,       3.72,       8.47,      11.94,\n",
       "            18.06,       2.88,       8.57,      40.01,       3.46,\n",
       "             0.24,       4.83,      44.25,      29.02,       8.93,\n",
       "             6.54,      15.47,       2.51,      51.31,      25.18,\n",
       "            11.01,      28.15,      23.35,       0.3 ,      29.8 ,\n",
       "            27.74,      29.56,       9.76,       9.  ,      10.57,\n",
       "            15.9 ,       1.69,       1.5 ,       3.68,       3.67,\n",
       "             8.21,      24.37,       9.76,       4.43,      22.21,\n",
       "             0.26,      10.49,       0.12,       8.35])"
      ]
     },
     "execution_count": 53,
     "metadata": {},
     "output_type": "execute_result"
    }
   ],
   "source": [
    "test = SelectKBest(score_func = f_regression, k = 5)\n",
    "fit = test.fit(data6, data['arr_delay'])\n",
    "np.set_printoptions(precision = 2, suppress = True)\n",
    "fit.scores_"
   ]
  },
  {
   "cell_type": "code",
   "execution_count": 54,
   "id": "828a5979",
   "metadata": {},
   "outputs": [
    {
     "data": {
      "text/plain": [
       "array(['arr_flights', 'arr_del15', 'carrier_ct', 'nas_ct',\n",
       "       'late_aircraft_ct'], dtype=object)"
      ]
     },
     "execution_count": 54,
     "metadata": {},
     "output_type": "execute_result"
    }
   ],
   "source": [
    "fit.get_feature_names_out(input_features = None)"
   ]
  },
  {
   "cell_type": "code",
   "execution_count": 55,
   "id": "22b0470c",
   "metadata": {},
   "outputs": [],
   "source": [
    "X, y = data[['arr_flights', 'arr_del15', 'carrier_ct', 'nas_ct','late_aircraft_ct']], data['arr_delay']\n",
    "X_train, X_test, y_train, y_test = train_test_split(X, y, test_size = 0.20, random_state = 123)"
   ]
  },
  {
   "cell_type": "markdown",
   "id": "b586075b",
   "metadata": {},
   "source": [
    "### 3.3: Ridge Regression"
   ]
  },
  {
   "cell_type": "code",
   "execution_count": 56,
   "id": "0a9271c8",
   "metadata": {},
   "outputs": [
    {
     "data": {
      "text/plain": [
       "0.9471265760202732"
      ]
     },
     "execution_count": 56,
     "metadata": {},
     "output_type": "execute_result"
    }
   ],
   "source": [
    "ridge = Ridge()\n",
    "ridge.fit(X_train, y_train)\n",
    "ridge_y_predict = ridge.predict(X_test)\n",
    "1 - (1 - ridge.score(X_test, y_test))*(len(y_test) - 1)/(len(y_test) - X.shape[1] - 1)"
   ]
  },
  {
   "cell_type": "code",
   "execution_count": 57,
   "id": "dadef1e3",
   "metadata": {},
   "outputs": [
    {
     "data": {
      "text/plain": [
       "2974.572772282767"
      ]
     },
     "execution_count": 57,
     "metadata": {},
     "output_type": "execute_result"
    }
   ],
   "source": [
    "mean_squared_error(y_test, ridge_y_predict, squared = False)"
   ]
  },
  {
   "cell_type": "code",
   "execution_count": 58,
   "id": "04a1aa01",
   "metadata": {},
   "outputs": [
    {
     "data": {
      "text/plain": [
       "871.1650933738302"
      ]
     },
     "execution_count": 58,
     "metadata": {},
     "output_type": "execute_result"
    }
   ],
   "source": [
    "mean_absolute_error(y_test, ridge_y_predict)"
   ]
  },
  {
   "cell_type": "code",
   "execution_count": 59,
   "id": "8a3e9be9",
   "metadata": {},
   "outputs": [],
   "source": [
    "ridge_alpha = [0.0001, 0.001, 0.1, 1.0]\n",
    "\n",
    "ridge_grid = {'alpha': ridge_alpha}"
   ]
  },
  {
   "cell_type": "code",
   "execution_count": 60,
   "id": "c29c6384",
   "metadata": {},
   "outputs": [
    {
     "name": "stderr",
     "output_type": "stream",
     "text": [
      "C:\\Users\\Gary\\anaconda3\\lib\\site-packages\\sklearn\\model_selection\\_search.py:292: UserWarning: The total space of parameters 4 is smaller than n_iter=10. Running 4 iterations. For exhaustive searches, use GridSearchCV.\n",
      "  warnings.warn(\n"
     ]
    },
    {
     "data": {
      "text/plain": [
       "{'alpha': 0.0001}"
      ]
     },
     "execution_count": 60,
     "metadata": {},
     "output_type": "execute_result"
    }
   ],
   "source": [
    "ridge_rscv = Ridge()\n",
    "ridge_random = RandomizedSearchCV(estimator = ridge_rscv, param_distributions = ridge_grid, cv = 5, random_state = 123, scoring = 'neg_root_mean_squared_error', n_jobs = -1)\n",
    "ridge_random.fit(X_train, y_train)\n",
    "ridge_random.best_params_"
   ]
  },
  {
   "cell_type": "code",
   "execution_count": 61,
   "id": "847409c6",
   "metadata": {},
   "outputs": [
    {
     "data": {
      "text/plain": [
       "0.9471265790818609"
      ]
     },
     "execution_count": 61,
     "metadata": {},
     "output_type": "execute_result"
    }
   ],
   "source": [
    "ridge_best = Ridge(alpha = 0.001)\n",
    "ridge_best.fit(X_train, y_train)\n",
    "ridge_y_predict_best = ridge_best.predict(X_test)\n",
    "1 - (1 - ridge_best.score(X_test, y_test))*(len(y_test) - 1)/(len(y_test) - X.shape[1] - 1)"
   ]
  },
  {
   "cell_type": "code",
   "execution_count": 62,
   "id": "c013d053",
   "metadata": {},
   "outputs": [
    {
     "data": {
      "text/plain": [
       "2974.572686162794"
      ]
     },
     "execution_count": 62,
     "metadata": {},
     "output_type": "execute_result"
    }
   ],
   "source": [
    "mean_squared_error(y_test, ridge_y_predict_best, squared = False)"
   ]
  },
  {
   "cell_type": "code",
   "execution_count": 63,
   "id": "152135bc",
   "metadata": {},
   "outputs": [
    {
     "data": {
      "text/plain": [
       "871.1651995988211"
      ]
     },
     "execution_count": 63,
     "metadata": {},
     "output_type": "execute_result"
    }
   ],
   "source": [
    "mean_absolute_error(y_test, ridge_y_predict_best)"
   ]
  },
  {
   "cell_type": "markdown",
   "id": "20a2207a",
   "metadata": {},
   "source": [
    "### 3.4: K-Nearest Neighbors (K-NN)"
   ]
  },
  {
   "cell_type": "code",
   "execution_count": 64,
   "id": "bd373c2b",
   "metadata": {},
   "outputs": [
    {
     "name": "stderr",
     "output_type": "stream",
     "text": [
      "C:\\Users\\Gary\\anaconda3\\lib\\site-packages\\sklearn\\base.py:441: UserWarning: X does not have valid feature names, but KNeighborsRegressor was fitted with feature names\n",
      "  warnings.warn(\n",
      "C:\\Users\\Gary\\anaconda3\\lib\\site-packages\\sklearn\\base.py:441: UserWarning: X does not have valid feature names, but KNeighborsRegressor was fitted with feature names\n",
      "  warnings.warn(\n"
     ]
    },
    {
     "data": {
      "text/plain": [
       "0.9465264292847799"
      ]
     },
     "execution_count": 64,
     "metadata": {},
     "output_type": "execute_result"
    }
   ],
   "source": [
    "knn = KNeighborsRegressor()\n",
    "knn.fit(X_train, y_train)\n",
    "knn_y_predict = knn.predict(X_test)\n",
    "1 - (1 - knn.score(X_test, y_test))*(len(y_test) - 1)/(len(y_test) - X.shape[1] - 1)"
   ]
  },
  {
   "cell_type": "code",
   "execution_count": 65,
   "id": "abc6635f",
   "metadata": {},
   "outputs": [
    {
     "data": {
      "text/plain": [
       "2991.4067771732416"
      ]
     },
     "execution_count": 65,
     "metadata": {},
     "output_type": "execute_result"
    }
   ],
   "source": [
    "mean_squared_error(y_test, knn_y_predict, squared = False)"
   ]
  },
  {
   "cell_type": "code",
   "execution_count": 66,
   "id": "a102a1ae",
   "metadata": {},
   "outputs": [
    {
     "data": {
      "text/plain": [
       "836.8092756433564"
      ]
     },
     "execution_count": 66,
     "metadata": {},
     "output_type": "execute_result"
    }
   ],
   "source": [
    "mean_absolute_error(y_test, knn_y_predict)"
   ]
  },
  {
   "cell_type": "code",
   "execution_count": 67,
   "id": "2637128d",
   "metadata": {},
   "outputs": [],
   "source": [
    "knn_n_neighbors = [int(x) for x in np.linspace(1, 30, 30)]\n",
    "knn_leaf_size = [int(x) for x in np.linspace(1, 50, 50)]\n",
    "knn_p = [1,2]\n",
    "\n",
    "knn_grid = {'n_neighbors': knn_n_neighbors, 'leaf_size': knn_leaf_size, 'p': knn_p}"
   ]
  },
  {
   "cell_type": "code",
   "execution_count": 68,
   "id": "47d7b73d",
   "metadata": {},
   "outputs": [
    {
     "data": {
      "text/plain": [
       "{'p': 1, 'n_neighbors': 14, 'leaf_size': 23}"
      ]
     },
     "execution_count": 68,
     "metadata": {},
     "output_type": "execute_result"
    }
   ],
   "source": [
    "knn_rscv = KNeighborsRegressor()\n",
    "knn_random = RandomizedSearchCV(estimator = knn_rscv, param_distributions = knn_grid, cv = 5, random_state = 123, scoring = 'neg_root_mean_squared_error', n_jobs = -1)\n",
    "knn_random.fit(X_train, y_train)\n",
    "knn_random.best_params_"
   ]
  },
  {
   "cell_type": "code",
   "execution_count": 69,
   "id": "864aae60",
   "metadata": {},
   "outputs": [
    {
     "name": "stderr",
     "output_type": "stream",
     "text": [
      "C:\\Users\\Gary\\anaconda3\\lib\\site-packages\\sklearn\\base.py:441: UserWarning: X does not have valid feature names, but KNeighborsRegressor was fitted with feature names\n",
      "  warnings.warn(\n",
      "C:\\Users\\Gary\\anaconda3\\lib\\site-packages\\sklearn\\base.py:441: UserWarning: X does not have valid feature names, but KNeighborsRegressor was fitted with feature names\n",
      "  warnings.warn(\n"
     ]
    },
    {
     "data": {
      "text/plain": [
       "0.9479463090455227"
      ]
     },
     "execution_count": 69,
     "metadata": {},
     "output_type": "execute_result"
    }
   ],
   "source": [
    "knn_best = KNeighborsRegressor(n_neighbors = 4, leaf_size = 20, p = 2)\n",
    "knn_best.fit(X_train, y_train)\n",
    "knn_y_predict_best = knn_best.predict(X_test)\n",
    "1 - (1 - knn_best.score(X_test, y_test))*(len(y_test) - 1)/(len(y_test) - X.shape[1] - 1)"
   ]
  },
  {
   "cell_type": "code",
   "execution_count": 70,
   "id": "82bfc7b2",
   "metadata": {},
   "outputs": [
    {
     "data": {
      "text/plain": [
       "2951.4242771791646"
      ]
     },
     "execution_count": 70,
     "metadata": {},
     "output_type": "execute_result"
    }
   ],
   "source": [
    "mean_squared_error(y_test, knn_y_predict_best, squared = False)"
   ]
  },
  {
   "cell_type": "code",
   "execution_count": 71,
   "id": "ba10d2d8",
   "metadata": {},
   "outputs": [
    {
     "data": {
      "text/plain": [
       "845.2751787662102"
      ]
     },
     "execution_count": 71,
     "metadata": {},
     "output_type": "execute_result"
    }
   ],
   "source": [
    "mean_absolute_error(y_test, knn_y_predict_best)"
   ]
  },
  {
   "cell_type": "markdown",
   "id": "13ee5c00",
   "metadata": {},
   "source": [
    "### 3.5: Neural Network (MLP)"
   ]
  },
  {
   "cell_type": "code",
   "execution_count": 72,
   "id": "e74a16d1",
   "metadata": {},
   "outputs": [
    {
     "name": "stderr",
     "output_type": "stream",
     "text": [
      "C:\\Users\\Gary\\anaconda3\\lib\\site-packages\\sklearn\\neural_network\\_multilayer_perceptron.py:692: ConvergenceWarning: Stochastic Optimizer: Maximum iterations (200) reached and the optimization hasn't converged yet.\n",
      "  warnings.warn(\n"
     ]
    },
    {
     "data": {
      "text/plain": [
       "0.9511112596923887"
      ]
     },
     "execution_count": 72,
     "metadata": {},
     "output_type": "execute_result"
    }
   ],
   "source": [
    "nn = MLPRegressor()\n",
    "nn.fit(X_train, y_train)\n",
    "nn_y_predict = nn.predict(X_test)\n",
    "1 - (1 - nn.score(X_test, y_test))*(len(y_test) - 1)/(len(y_test) - X.shape[1] - 1)"
   ]
  },
  {
   "cell_type": "code",
   "execution_count": 73,
   "id": "338522ab",
   "metadata": {},
   "outputs": [
    {
     "data": {
      "text/plain": [
       "2860.291557272731"
      ]
     },
     "execution_count": 73,
     "metadata": {},
     "output_type": "execute_result"
    }
   ],
   "source": [
    "mean_squared_error(y_test, nn_y_predict, squared = False)"
   ]
  },
  {
   "cell_type": "code",
   "execution_count": 74,
   "id": "56fbddc5",
   "metadata": {},
   "outputs": [
    {
     "data": {
      "text/plain": [
       "826.3391016607532"
      ]
     },
     "execution_count": 74,
     "metadata": {},
     "output_type": "execute_result"
    }
   ],
   "source": [
    "mean_absolute_error(y_test, nn_y_predict)"
   ]
  },
  {
   "cell_type": "code",
   "execution_count": 75,
   "id": "50cf28ed",
   "metadata": {},
   "outputs": [],
   "source": [
    "nn_solver = ['sgd', 'adam']\n",
    "nn_learning_rate = ['constant','adaptive']\n",
    "\n",
    "nn_grid = {'solver': nn_solver, 'learning_rate': nn_learning_rate}"
   ]
  },
  {
   "cell_type": "code",
   "execution_count": 76,
   "id": "2749375d",
   "metadata": {},
   "outputs": [
    {
     "name": "stderr",
     "output_type": "stream",
     "text": [
      "C:\\Users\\Gary\\anaconda3\\lib\\site-packages\\sklearn\\model_selection\\_search.py:292: UserWarning: The total space of parameters 4 is smaller than n_iter=10. Running 4 iterations. For exhaustive searches, use GridSearchCV.\n",
      "  warnings.warn(\n"
     ]
    },
    {
     "data": {
      "text/plain": [
       "{'solver': 'adam', 'learning_rate': 'constant'}"
      ]
     },
     "execution_count": 76,
     "metadata": {},
     "output_type": "execute_result"
    }
   ],
   "source": [
    "nn_rscv = MLPRegressor()\n",
    "nn_random = RandomizedSearchCV(estimator = nn_rscv, param_distributions = nn_grid, cv = 5, random_state = 123, scoring = 'neg_root_mean_squared_error', n_jobs = -1)\n",
    "nn_random.fit(X_train, y_train)\n",
    "nn_random.best_params_"
   ]
  },
  {
   "cell_type": "code",
   "execution_count": 77,
   "id": "18302014",
   "metadata": {},
   "outputs": [
    {
     "data": {
      "text/plain": [
       "0.9496324398889165"
      ]
     },
     "execution_count": 77,
     "metadata": {},
     "output_type": "execute_result"
    }
   ],
   "source": [
    "nn_best = MLPRegressor(solver = 'adam', learning_rate = 'adaptive')\n",
    "nn_best.fit(X_train, y_train)\n",
    "nn_y_predict_best = nn_best.predict(X_test)\n",
    "1 - (1 - nn_best.score(X_test, y_test))*(len(y_test) - 1)/(len(y_test) - X.shape[1] - 1)"
   ]
  },
  {
   "cell_type": "code",
   "execution_count": 78,
   "id": "0293f07e",
   "metadata": {},
   "outputs": [
    {
     "data": {
      "text/plain": [
       "2903.2292941487412"
      ]
     },
     "execution_count": 78,
     "metadata": {},
     "output_type": "execute_result"
    }
   ],
   "source": [
    "mean_squared_error(y_test, nn_y_predict_best, squared = False)"
   ]
  },
  {
   "cell_type": "code",
   "execution_count": 79,
   "id": "1a93616d",
   "metadata": {},
   "outputs": [
    {
     "data": {
      "text/plain": [
       "823.5818271118702"
      ]
     },
     "execution_count": 79,
     "metadata": {},
     "output_type": "execute_result"
    }
   ],
   "source": [
    "mean_absolute_error(y_test, nn_y_predict_best)"
   ]
  },
  {
   "cell_type": "markdown",
   "id": "e4df8ce3",
   "metadata": {},
   "source": [
    "## Section 4: Prediction"
   ]
  },
  {
   "cell_type": "markdown",
   "id": "ecf31b28",
   "metadata": {},
   "source": [
    "### 4.1: Model Prediction"
   ]
  },
  {
   "cell_type": "code",
   "execution_count": 80,
   "id": "36fbfe2f",
   "metadata": {
    "scrolled": true
   },
   "outputs": [
    {
     "data": {
      "text/plain": [
       "year                   0\n",
       "month                  0\n",
       "carrier                0\n",
       "carrier_name           0\n",
       "airport                0\n",
       "airport_name           0\n",
       "arr_flights            3\n",
       "arr_del15              3\n",
       "carrier_ct             3\n",
       "weather_ct             3\n",
       "nas_ct                 3\n",
       "security_ct            3\n",
       "late_aircraft_ct       3\n",
       "arr_cancelled          3\n",
       "arr_diverted           3\n",
       "arr_delay              3\n",
       "carrier_delay          3\n",
       "weather_delay          3\n",
       "nas_delay              3\n",
       "security_delay         3\n",
       "late_aircraft_delay    3\n",
       "dtype: int64"
      ]
     },
     "execution_count": 80,
     "metadata": {},
     "output_type": "execute_result"
    }
   ],
   "source": [
    "data_pred = pd.read_csv('1063637876_82021_5125_airline_delay_causes.csv')\n",
    "data_pred.isnull().sum()"
   ]
  },
  {
   "cell_type": "code",
   "execution_count": 81,
   "id": "f8ee94bc",
   "metadata": {},
   "outputs": [
    {
     "data": {
      "text/plain": [
       "(1795, 21)"
      ]
     },
     "execution_count": 81,
     "metadata": {},
     "output_type": "execute_result"
    }
   ],
   "source": [
    "data_pred.shape"
   ]
  },
  {
   "cell_type": "code",
   "execution_count": 82,
   "id": "6d966d9c",
   "metadata": {},
   "outputs": [],
   "source": [
    "data_pred = data_pred.loc[~data_pred['arr_flights'].isna()]\n",
    "X_pred = data_pred[['arr_flights', 'arr_del15', 'carrier_ct', 'nas_ct','late_aircraft_ct']]\n",
    "y_pred = data_pred['arr_delay']"
   ]
  },
  {
   "cell_type": "code",
   "execution_count": 83,
   "id": "a5a2164b",
   "metadata": {},
   "outputs": [
    {
     "data": {
      "text/plain": [
       "0.9431697413828949"
      ]
     },
     "execution_count": 83,
     "metadata": {},
     "output_type": "execute_result"
    }
   ],
   "source": [
    "y_predict1 = ridge_best.predict(X_pred)\n",
    "1 - (1 - ridge_best.score(X_pred, y_pred))*(len(y_pred) - 1)/(len(y_pred) - X_pred.shape[1] - 1)"
   ]
  },
  {
   "cell_type": "code",
   "execution_count": 84,
   "id": "6aeca642",
   "metadata": {},
   "outputs": [
    {
     "data": {
      "text/plain": [
       "2075.023399204504"
      ]
     },
     "execution_count": 84,
     "metadata": {},
     "output_type": "execute_result"
    }
   ],
   "source": [
    "mean_squared_error(y_pred, y_predict1, squared = False)"
   ]
  },
  {
   "cell_type": "code",
   "execution_count": 85,
   "id": "00974f8a",
   "metadata": {},
   "outputs": [
    {
     "data": {
      "text/plain": [
       "643.6480072678106"
      ]
     },
     "execution_count": 85,
     "metadata": {},
     "output_type": "execute_result"
    }
   ],
   "source": [
    "mean_absolute_error(y_pred, y_predict1)"
   ]
  },
  {
   "cell_type": "code",
   "execution_count": 86,
   "id": "eb97f81c",
   "metadata": {},
   "outputs": [
    {
     "name": "stderr",
     "output_type": "stream",
     "text": [
      "C:\\Users\\Gary\\anaconda3\\lib\\site-packages\\sklearn\\base.py:441: UserWarning: X does not have valid feature names, but KNeighborsRegressor was fitted with feature names\n",
      "  warnings.warn(\n",
      "C:\\Users\\Gary\\anaconda3\\lib\\site-packages\\sklearn\\base.py:441: UserWarning: X does not have valid feature names, but KNeighborsRegressor was fitted with feature names\n",
      "  warnings.warn(\n"
     ]
    },
    {
     "data": {
      "text/plain": [
       "0.9164597978567695"
      ]
     },
     "execution_count": 86,
     "metadata": {},
     "output_type": "execute_result"
    }
   ],
   "source": [
    "y_predict2 = knn_best.predict(X_pred)\n",
    "1 - (1 - knn_best.score(X_pred, y_pred))*(len(y_pred) - 1)/(len(y_pred) - X_pred.shape[1] - 1)"
   ]
  },
  {
   "cell_type": "code",
   "execution_count": 87,
   "id": "e721987f",
   "metadata": {},
   "outputs": [
    {
     "data": {
      "text/plain": [
       "2515.827981655315"
      ]
     },
     "execution_count": 87,
     "metadata": {},
     "output_type": "execute_result"
    }
   ],
   "source": [
    "mean_squared_error(y_pred, y_predict2, squared = False)"
   ]
  },
  {
   "cell_type": "code",
   "execution_count": 88,
   "id": "1d711ff7",
   "metadata": {},
   "outputs": [
    {
     "data": {
      "text/plain": [
       "695.4222935267857"
      ]
     },
     "execution_count": 88,
     "metadata": {},
     "output_type": "execute_result"
    }
   ],
   "source": [
    "mean_absolute_error(y_pred, y_predict2)"
   ]
  },
  {
   "cell_type": "code",
   "execution_count": 89,
   "id": "2aeab8c1",
   "metadata": {},
   "outputs": [
    {
     "data": {
      "text/plain": [
       "0.912578123978968"
      ]
     },
     "execution_count": 89,
     "metadata": {},
     "output_type": "execute_result"
    }
   ],
   "source": [
    "y_predict3 = nn_best.predict(X_pred)\n",
    "1 - (1 - nn_best.score(X_pred, y_pred))*(len(y_pred) - 1)/(len(y_pred) - X_pred.shape[1] - 1)"
   ]
  },
  {
   "cell_type": "code",
   "execution_count": 90,
   "id": "2a108bab",
   "metadata": {},
   "outputs": [
    {
     "data": {
      "text/plain": [
       "2573.6130093948937"
      ]
     },
     "execution_count": 90,
     "metadata": {},
     "output_type": "execute_result"
    }
   ],
   "source": [
    "mean_squared_error(y_pred, y_predict3, squared = False)"
   ]
  },
  {
   "cell_type": "code",
   "execution_count": 91,
   "id": "4f392ea8",
   "metadata": {},
   "outputs": [
    {
     "data": {
      "text/plain": [
       "713.5345059829032"
      ]
     },
     "execution_count": 91,
     "metadata": {},
     "output_type": "execute_result"
    }
   ],
   "source": [
    "mean_absolute_error(y_pred, y_predict3)"
   ]
  },
  {
   "cell_type": "markdown",
   "id": "5f11e256",
   "metadata": {},
   "source": [
    "### 4.2: Prediction Difference Significance"
   ]
  },
  {
   "cell_type": "code",
   "execution_count": 92,
   "id": "40931e8e",
   "metadata": {},
   "outputs": [
    {
     "data": {
      "text/plain": [
       "0.6496126232752801"
      ]
     },
     "execution_count": 92,
     "metadata": {},
     "output_type": "execute_result"
    }
   ],
   "source": [
    "levene(y_predict1, y_predict2).pvalue"
   ]
  },
  {
   "cell_type": "code",
   "execution_count": 93,
   "id": "165d5b5f",
   "metadata": {},
   "outputs": [
    {
     "data": {
      "text/plain": [
       "0.8873606937495402"
      ]
     },
     "execution_count": 93,
     "metadata": {},
     "output_type": "execute_result"
    }
   ],
   "source": [
    "ttest_ind(y_predict1, y_predict2).pvalue"
   ]
  },
  {
   "cell_type": "code",
   "execution_count": 94,
   "id": "3047d270",
   "metadata": {},
   "outputs": [
    {
     "data": {
      "text/plain": [
       "0.8820494262034251"
      ]
     },
     "execution_count": 94,
     "metadata": {},
     "output_type": "execute_result"
    }
   ],
   "source": [
    "levene(y_predict1, y_predict3).pvalue"
   ]
  },
  {
   "cell_type": "code",
   "execution_count": 95,
   "id": "f1c63077",
   "metadata": {},
   "outputs": [
    {
     "data": {
      "text/plain": [
       "0.8931490647464905"
      ]
     },
     "execution_count": 95,
     "metadata": {},
     "output_type": "execute_result"
    }
   ],
   "source": [
    "ttest_ind(y_predict1, y_predict3).pvalue"
   ]
  }
 ],
 "metadata": {
  "kernelspec": {
   "display_name": "Python 3 (ipykernel)",
   "language": "python",
   "name": "python3"
  },
  "language_info": {
   "codemirror_mode": {
    "name": "ipython",
    "version": 3
   },
   "file_extension": ".py",
   "mimetype": "text/x-python",
   "name": "python",
   "nbconvert_exporter": "python",
   "pygments_lexer": "ipython3",
   "version": "3.8.8"
  }
 },
 "nbformat": 4,
 "nbformat_minor": 5
}
